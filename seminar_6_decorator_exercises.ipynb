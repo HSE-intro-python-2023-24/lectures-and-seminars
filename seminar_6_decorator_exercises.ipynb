{
  "nbformat": 4,
  "nbformat_minor": 0,
  "metadata": {
    "colab": {
      "provenance": []
    },
    "kernelspec": {
      "name": "python3",
      "display_name": "Python 3"
    },
    "language_info": {
      "name": "python"
    }
  },
  "cells": [
    {
      "cell_type": "code",
      "source": [
        "import time\n",
        "import pandas as pd\n",
        "from datetime import datetime"
      ],
      "metadata": {
        "id": "z6OcEY-EZc6P"
      },
      "execution_count": null,
      "outputs": []
    },
    {
      "cell_type": "markdown",
      "source": [
        "# Pandas -- дополнение к лекции"
      ],
      "metadata": {
        "id": "AZ6ohtF6K2CP"
      }
    },
    {
      "cell_type": "code",
      "source": [
        "#! unzip data.zip\n",
        "#! rm data.zip"
      ],
      "metadata": {
        "id": "eWo1WAoZLbw_"
      },
      "execution_count": null,
      "outputs": []
    },
    {
      "cell_type": "code",
      "source": [
        "df = pd.read_csv(\"aggregated_data.tsv\", sep='\\t')\n",
        "df.head(3)"
      ],
      "metadata": {
        "colab": {
          "base_uri": "https://localhost:8080/",
          "height": 143
        },
        "id": "O-DKF5bKLlsv",
        "outputId": "1e0e8cbb-1e9d-4070-d0a0-0e108914a105"
      },
      "execution_count": null,
      "outputs": [
        {
          "output_type": "execute_result",
          "data": {
            "text/plain": [
              "          word  n_tokens  n_documents\n",
              "0            а       108           74\n",
              "1  аббревиатур         1            1\n",
              "2        абзац         5           15"
            ],
            "text/html": [
              "\n",
              "  <div id=\"df-7333e86f-ab2a-490d-8fef-82669684e4a7\" class=\"colab-df-container\">\n",
              "    <div>\n",
              "<style scoped>\n",
              "    .dataframe tbody tr th:only-of-type {\n",
              "        vertical-align: middle;\n",
              "    }\n",
              "\n",
              "    .dataframe tbody tr th {\n",
              "        vertical-align: top;\n",
              "    }\n",
              "\n",
              "    .dataframe thead th {\n",
              "        text-align: right;\n",
              "    }\n",
              "</style>\n",
              "<table border=\"1\" class=\"dataframe\">\n",
              "  <thead>\n",
              "    <tr style=\"text-align: right;\">\n",
              "      <th></th>\n",
              "      <th>word</th>\n",
              "      <th>n_tokens</th>\n",
              "      <th>n_documents</th>\n",
              "    </tr>\n",
              "  </thead>\n",
              "  <tbody>\n",
              "    <tr>\n",
              "      <th>0</th>\n",
              "      <td>а</td>\n",
              "      <td>108</td>\n",
              "      <td>74</td>\n",
              "    </tr>\n",
              "    <tr>\n",
              "      <th>1</th>\n",
              "      <td>аббревиатур</td>\n",
              "      <td>1</td>\n",
              "      <td>1</td>\n",
              "    </tr>\n",
              "    <tr>\n",
              "      <th>2</th>\n",
              "      <td>абзац</td>\n",
              "      <td>5</td>\n",
              "      <td>15</td>\n",
              "    </tr>\n",
              "  </tbody>\n",
              "</table>\n",
              "</div>\n",
              "    <div class=\"colab-df-buttons\">\n",
              "\n",
              "  <div class=\"colab-df-container\">\n",
              "    <button class=\"colab-df-convert\" onclick=\"convertToInteractive('df-7333e86f-ab2a-490d-8fef-82669684e4a7')\"\n",
              "            title=\"Convert this dataframe to an interactive table.\"\n",
              "            style=\"display:none;\">\n",
              "\n",
              "  <svg xmlns=\"http://www.w3.org/2000/svg\" height=\"24px\" viewBox=\"0 -960 960 960\">\n",
              "    <path d=\"M120-120v-720h720v720H120Zm60-500h600v-160H180v160Zm220 220h160v-160H400v160Zm0 220h160v-160H400v160ZM180-400h160v-160H180v160Zm440 0h160v-160H620v160ZM180-180h160v-160H180v160Zm440 0h160v-160H620v160Z\"/>\n",
              "  </svg>\n",
              "    </button>\n",
              "\n",
              "  <style>\n",
              "    .colab-df-container {\n",
              "      display:flex;\n",
              "      gap: 12px;\n",
              "    }\n",
              "\n",
              "    .colab-df-convert {\n",
              "      background-color: #E8F0FE;\n",
              "      border: none;\n",
              "      border-radius: 50%;\n",
              "      cursor: pointer;\n",
              "      display: none;\n",
              "      fill: #1967D2;\n",
              "      height: 32px;\n",
              "      padding: 0 0 0 0;\n",
              "      width: 32px;\n",
              "    }\n",
              "\n",
              "    .colab-df-convert:hover {\n",
              "      background-color: #E2EBFA;\n",
              "      box-shadow: 0px 1px 2px rgba(60, 64, 67, 0.3), 0px 1px 3px 1px rgba(60, 64, 67, 0.15);\n",
              "      fill: #174EA6;\n",
              "    }\n",
              "\n",
              "    .colab-df-buttons div {\n",
              "      margin-bottom: 4px;\n",
              "    }\n",
              "\n",
              "    [theme=dark] .colab-df-convert {\n",
              "      background-color: #3B4455;\n",
              "      fill: #D2E3FC;\n",
              "    }\n",
              "\n",
              "    [theme=dark] .colab-df-convert:hover {\n",
              "      background-color: #434B5C;\n",
              "      box-shadow: 0px 1px 3px 1px rgba(0, 0, 0, 0.15);\n",
              "      filter: drop-shadow(0px 1px 2px rgba(0, 0, 0, 0.3));\n",
              "      fill: #FFFFFF;\n",
              "    }\n",
              "  </style>\n",
              "\n",
              "    <script>\n",
              "      const buttonEl =\n",
              "        document.querySelector('#df-7333e86f-ab2a-490d-8fef-82669684e4a7 button.colab-df-convert');\n",
              "      buttonEl.style.display =\n",
              "        google.colab.kernel.accessAllowed ? 'block' : 'none';\n",
              "\n",
              "      async function convertToInteractive(key) {\n",
              "        const element = document.querySelector('#df-7333e86f-ab2a-490d-8fef-82669684e4a7');\n",
              "        const dataTable =\n",
              "          await google.colab.kernel.invokeFunction('convertToInteractive',\n",
              "                                                    [key], {});\n",
              "        if (!dataTable) return;\n",
              "\n",
              "        const docLinkHtml = 'Like what you see? Visit the ' +\n",
              "          '<a target=\"_blank\" href=https://colab.research.google.com/notebooks/data_table.ipynb>data table notebook</a>'\n",
              "          + ' to learn more about interactive tables.';\n",
              "        element.innerHTML = '';\n",
              "        dataTable['output_type'] = 'display_data';\n",
              "        await google.colab.output.renderOutput(dataTable, element);\n",
              "        const docLink = document.createElement('div');\n",
              "        docLink.innerHTML = docLinkHtml;\n",
              "        element.appendChild(docLink);\n",
              "      }\n",
              "    </script>\n",
              "  </div>\n",
              "\n",
              "\n",
              "<div id=\"df-b368ff7a-159b-4b55-a42e-aa3652350fd0\">\n",
              "  <button class=\"colab-df-quickchart\" onclick=\"quickchart('df-b368ff7a-159b-4b55-a42e-aa3652350fd0')\"\n",
              "            title=\"Suggest charts\"\n",
              "            style=\"display:none;\">\n",
              "\n",
              "<svg xmlns=\"http://www.w3.org/2000/svg\" height=\"24px\"viewBox=\"0 0 24 24\"\n",
              "     width=\"24px\">\n",
              "    <g>\n",
              "        <path d=\"M19 3H5c-1.1 0-2 .9-2 2v14c0 1.1.9 2 2 2h14c1.1 0 2-.9 2-2V5c0-1.1-.9-2-2-2zM9 17H7v-7h2v7zm4 0h-2V7h2v10zm4 0h-2v-4h2v4z\"/>\n",
              "    </g>\n",
              "</svg>\n",
              "  </button>\n",
              "\n",
              "<style>\n",
              "  .colab-df-quickchart {\n",
              "      --bg-color: #E8F0FE;\n",
              "      --fill-color: #1967D2;\n",
              "      --hover-bg-color: #E2EBFA;\n",
              "      --hover-fill-color: #174EA6;\n",
              "      --disabled-fill-color: #AAA;\n",
              "      --disabled-bg-color: #DDD;\n",
              "  }\n",
              "\n",
              "  [theme=dark] .colab-df-quickchart {\n",
              "      --bg-color: #3B4455;\n",
              "      --fill-color: #D2E3FC;\n",
              "      --hover-bg-color: #434B5C;\n",
              "      --hover-fill-color: #FFFFFF;\n",
              "      --disabled-bg-color: #3B4455;\n",
              "      --disabled-fill-color: #666;\n",
              "  }\n",
              "\n",
              "  .colab-df-quickchart {\n",
              "    background-color: var(--bg-color);\n",
              "    border: none;\n",
              "    border-radius: 50%;\n",
              "    cursor: pointer;\n",
              "    display: none;\n",
              "    fill: var(--fill-color);\n",
              "    height: 32px;\n",
              "    padding: 0;\n",
              "    width: 32px;\n",
              "  }\n",
              "\n",
              "  .colab-df-quickchart:hover {\n",
              "    background-color: var(--hover-bg-color);\n",
              "    box-shadow: 0 1px 2px rgba(60, 64, 67, 0.3), 0 1px 3px 1px rgba(60, 64, 67, 0.15);\n",
              "    fill: var(--button-hover-fill-color);\n",
              "  }\n",
              "\n",
              "  .colab-df-quickchart-complete:disabled,\n",
              "  .colab-df-quickchart-complete:disabled:hover {\n",
              "    background-color: var(--disabled-bg-color);\n",
              "    fill: var(--disabled-fill-color);\n",
              "    box-shadow: none;\n",
              "  }\n",
              "\n",
              "  .colab-df-spinner {\n",
              "    border: 2px solid var(--fill-color);\n",
              "    border-color: transparent;\n",
              "    border-bottom-color: var(--fill-color);\n",
              "    animation:\n",
              "      spin 1s steps(1) infinite;\n",
              "  }\n",
              "\n",
              "  @keyframes spin {\n",
              "    0% {\n",
              "      border-color: transparent;\n",
              "      border-bottom-color: var(--fill-color);\n",
              "      border-left-color: var(--fill-color);\n",
              "    }\n",
              "    20% {\n",
              "      border-color: transparent;\n",
              "      border-left-color: var(--fill-color);\n",
              "      border-top-color: var(--fill-color);\n",
              "    }\n",
              "    30% {\n",
              "      border-color: transparent;\n",
              "      border-left-color: var(--fill-color);\n",
              "      border-top-color: var(--fill-color);\n",
              "      border-right-color: var(--fill-color);\n",
              "    }\n",
              "    40% {\n",
              "      border-color: transparent;\n",
              "      border-right-color: var(--fill-color);\n",
              "      border-top-color: var(--fill-color);\n",
              "    }\n",
              "    60% {\n",
              "      border-color: transparent;\n",
              "      border-right-color: var(--fill-color);\n",
              "    }\n",
              "    80% {\n",
              "      border-color: transparent;\n",
              "      border-right-color: var(--fill-color);\n",
              "      border-bottom-color: var(--fill-color);\n",
              "    }\n",
              "    90% {\n",
              "      border-color: transparent;\n",
              "      border-bottom-color: var(--fill-color);\n",
              "    }\n",
              "  }\n",
              "</style>\n",
              "\n",
              "  <script>\n",
              "    async function quickchart(key) {\n",
              "      const quickchartButtonEl =\n",
              "        document.querySelector('#' + key + ' button');\n",
              "      quickchartButtonEl.disabled = true;  // To prevent multiple clicks.\n",
              "      quickchartButtonEl.classList.add('colab-df-spinner');\n",
              "      try {\n",
              "        const charts = await google.colab.kernel.invokeFunction(\n",
              "            'suggestCharts', [key], {});\n",
              "      } catch (error) {\n",
              "        console.error('Error during call to suggestCharts:', error);\n",
              "      }\n",
              "      quickchartButtonEl.classList.remove('colab-df-spinner');\n",
              "      quickchartButtonEl.classList.add('colab-df-quickchart-complete');\n",
              "    }\n",
              "    (() => {\n",
              "      let quickchartButtonEl =\n",
              "        document.querySelector('#df-b368ff7a-159b-4b55-a42e-aa3652350fd0 button');\n",
              "      quickchartButtonEl.style.display =\n",
              "        google.colab.kernel.accessAllowed ? 'block' : 'none';\n",
              "    })();\n",
              "  </script>\n",
              "</div>\n",
              "    </div>\n",
              "  </div>\n"
            ]
          },
          "metadata": {},
          "execution_count": 5
        }
      ]
    },
    {
      "cell_type": "markdown",
      "source": [
        "Показать всю таблицу"
      ],
      "metadata": {
        "id": "buA7wTS6L3mU"
      }
    },
    {
      "cell_type": "code",
      "source": [
        "pd.set_option('display.max_rows', len(df))\n",
        "df\n",
        "#pd.reset_option('display.max_rows')"
      ],
      "metadata": {
        "id": "oQXwJCZoL6-_"
      },
      "execution_count": null,
      "outputs": []
    },
    {
      "cell_type": "markdown",
      "source": [
        "Посмотреть какую-нибудь подвыборку"
      ],
      "metadata": {
        "id": "EMwR6LxXObRV"
      }
    },
    {
      "cell_type": "code",
      "source": [
        "df['n_documents'].plot(kind='hist', bins=50)"
      ],
      "metadata": {
        "id": "U1_evMTbMv2a"
      },
      "execution_count": null,
      "outputs": []
    },
    {
      "cell_type": "code",
      "source": [
        "pd.cut(df['n_documents'], bins=10).value_counts()"
      ],
      "metadata": {
        "id": "Kae9LbBzOXud"
      },
      "execution_count": null,
      "outputs": []
    },
    {
      "cell_type": "code",
      "source": [
        "df[(df['n_documents'] > 53) & (df['n_documents'] <= 61)]"
      ],
      "metadata": {
        "id": "C35juZW0QJdm"
      },
      "execution_count": null,
      "outputs": []
    },
    {
      "cell_type": "markdown",
      "source": [
        "Склеивание строк в groupby"
      ],
      "metadata": {
        "id": "WZejvPWkR6xY"
      }
    },
    {
      "cell_type": "code",
      "source": [
        "df = pd.read_csv('raw_data.tsv', sep='\\t')\n",
        "\n",
        "aux_1 = df.groupby('word')['filename'].apply(list).to_frame()\n",
        "aux_2 = df.groupby('word')['count'].sum().to_frame()\n",
        "\n",
        "grouped = aux_2.merge(aux_1, how='inner', left_on='word', right_on='word').reset_index()\n",
        "grouped.head(3)"
      ],
      "metadata": {
        "id": "O8l4XqIER-cA"
      },
      "execution_count": null,
      "outputs": []
    },
    {
      "cell_type": "markdown",
      "source": [
        "Self-join"
      ],
      "metadata": {
        "id": "UWTaem_0VerD"
      }
    },
    {
      "cell_type": "code",
      "source": [
        "df = pd.DataFrame({'employee_id': [1, 2, 3, 4, 5, 6, 7],\n",
        "                   'name': ['Вася', 'Петя', 'Маша', 'Даша', 'Катя', 'Гена', 'Веня'],\n",
        "                   'manager_id': [2, 5, 7, 1, 6, 2, None],\n",
        "                   }).set_index('employee_id')\n",
        "df"
      ],
      "metadata": {
        "id": "uAL84vSPVguE"
      },
      "execution_count": null,
      "outputs": []
    },
    {
      "cell_type": "code",
      "source": [
        "df.join(df.drop('manager_id', axis=1), how='left', on='manager_id', rsuffix='_manager') \\\n",
        "  .drop('manager_id', axis=1)"
      ],
      "metadata": {
        "id": "UpyVriJ5XRui"
      },
      "execution_count": null,
      "outputs": []
    },
    {
      "cell_type": "markdown",
      "source": [
        "# Декораторы\n",
        "\n",
        "Декоратор -- оборачивает заданную функцию, модифицируя ее поведение."
      ],
      "metadata": {
        "id": "dxV1rSuGXiWE"
      }
    },
    {
      "cell_type": "code",
      "execution_count": null,
      "metadata": {
        "id": "7UfaywYqXIMh"
      },
      "outputs": [],
      "source": [
        "def my_decorator(func):\n",
        "    def wrapper():\n",
        "        print('Что-то происходит до вызова основной функции')\n",
        "        func()\n",
        "        print('Что-то происходит после вызова основной функции')\n",
        "    return wrapper\n",
        "\n",
        "def say_whee():\n",
        "    print('Уииии!')\n",
        "\n",
        "whee = my_decorator(say_whee)\n",
        "\n",
        "whee()"
      ]
    },
    {
      "cell_type": "code",
      "source": [
        "# Альтернативно с использованием синтаксического сахара\n",
        "@my_decorator\n",
        "def say_whee():\n",
        "    print('Уииии!')\n",
        "\n",
        "say_whee()"
      ],
      "metadata": {
        "id": "aNU7OJUyZJqh"
      },
      "execution_count": null,
      "outputs": []
    },
    {
      "cell_type": "code",
      "source": [
        "# Задание: мы не хотим, чтобы программа говорила 'Уииии!' ночью, поэтому надо ограничить время.\n",
        "# Дополните код ниже. Декоратор должен вызывать заданную функцию, если время сейчас между 7 утра и 10 вечера.\n",
        "\n",
        "def not_during_the_night(func):\n",
        "    def wrapper():\n",
        "        if 7 <= datetime.now().hour < 22:\n",
        "            #print(datetime.now().hour)\n",
        "            # TODO\n",
        "        else:\n",
        "            # TODO\n",
        "    return wrapper\n",
        "\n",
        "def say_whee():\n",
        "    print('Уииии!')\n",
        "\n",
        "# TODO\n"
      ],
      "metadata": {
        "id": "dG7T3PdKYnNX"
      },
      "execution_count": null,
      "outputs": []
    },
    {
      "cell_type": "markdown",
      "source": [
        "Работа с аргументами"
      ],
      "metadata": {
        "id": "hMdiXzZtc0Af"
      }
    },
    {
      "cell_type": "markdown",
      "source": [
        "*args позволяет передавать в функцию любое количество аргументов. Можно использовать, когда не уверены, сколько аргументов можно передать."
      ],
      "metadata": {
        "id": "EHivyVDicPKf"
      }
    },
    {
      "cell_type": "code",
      "source": [
        "def add_all_arguments(*args):\n",
        "  result = 0\n",
        "  for i in args:\n",
        "    result += i\n",
        "  return result\n",
        "\n",
        "print(add_all_arguments(1,5,7,9,10))\n",
        "print(add_all_arguments(1,9))\n",
        "print(add_all_arguments())"
      ],
      "metadata": {
        "id": "ZJCwqVq-cZDv"
      },
      "execution_count": null,
      "outputs": []
    },
    {
      "cell_type": "markdown",
      "source": [
        "**kwargs отличается тем, что для него нужно указывать имена аргументов и их значения."
      ],
      "metadata": {
        "id": "ekCgmSvlcsz9"
      }
    },
    {
      "cell_type": "code",
      "source": [
        "def print_arguments(**kwargs):\n",
        "  print(kwargs)\n",
        "\n",
        "print_arguments(name = 'Рабат')\n",
        "print_arguments(name = 'Рабат', country = 'Марокко')\n",
        "print_arguments()\n",
        "\n",
        "def print_argument_values(**kwargs):\n",
        "    for key, value in kwargs.items():\n",
        "        print('{0}: {1}'.format(key, value))\n",
        "\n",
        "print_argument_values(name=\"Рабат\", country=\"Марокко\")"
      ],
      "metadata": {
        "id": "C7d3bpw_cjt2"
      },
      "execution_count": null,
      "outputs": []
    },
    {
      "cell_type": "markdown",
      "source": [
        "\\*args и \\**kwargs вместе"
      ],
      "metadata": {
        "id": "6B6Ygideg4cQ"
      }
    },
    {
      "cell_type": "code",
      "source": [
        "def logger(func):\n",
        "    def wrapper(*args, **kwargs):\n",
        "        start = time.time()\n",
        "        print(\"Calling {}(args: {}, kwargs: {})\".format(func.__name__, args, kwargs))\n",
        "        out = func(*args, **kwargs)\n",
        "        end = time.time()\n",
        "        print(\"Finished {}({})\".format(func.__name__, out))\n",
        "        print(\"Elapsed time: {}\".format(end - start))\n",
        "        return out\n",
        "    return wrapper\n",
        "\n",
        "@logger\n",
        "def adder(*args, **kwargs):\n",
        "    return sum(args) + sum(kwargs.values())\n",
        "\n",
        "adder(1,2, z=3, a=4)"
      ],
      "metadata": {
        "id": "6EdbWLm_faTp"
      },
      "execution_count": null,
      "outputs": []
    },
    {
      "cell_type": "code",
      "source": [
        "# Задание: напишите декоратор, который будет кэшировать результаты функции adder\n",
        "def cache_result(func):\n",
        "    cache = {}\n",
        "\n",
        "    def wrapper(*args, **kwargs):\n",
        "        key = (*args, *kwargs.items())\n",
        "\n",
        "        if key in cache:\n",
        "            print('Retrieving result from cache...')\n",
        "            # TODO\n",
        "\n",
        "        # TODO\n",
        "\n",
        "\n",
        "@cache_result\n",
        "def adder(*args):\n",
        "    print('Calculating the sum of numbers...')\n",
        "    # TODO"
      ],
      "metadata": {
        "id": "WchDhKf6ljOl"
      },
      "execution_count": null,
      "outputs": []
    },
    {
      "cell_type": "code",
      "source": [
        "print(adder(1, 2))\n",
        "print(adder(1, 2, 4))\n",
        "print(adder(1, 2))\n",
        "print(adder(1, 2, 4))"
      ],
      "metadata": {
        "id": "SQMPTl2Hlnkc"
      },
      "execution_count": null,
      "outputs": []
    },
    {
      "cell_type": "markdown",
      "source": [
        "Декоратор, конвертирующий результат функции в заданный тип данных"
      ],
      "metadata": {
        "id": "O6YKXrPfkaLN"
      }
    },
    {
      "cell_type": "code",
      "source": [
        "def convert_to_data_type(data_type):\n",
        "    def decorator(func):\n",
        "        def wrapper(*args, **kwargs):\n",
        "            result = func(*args, **kwargs)\n",
        "            return data_type(result)\n",
        "        return wrapper\n",
        "    return decorator\n",
        "\n",
        "def adder(x, y):\n",
        "    return x + y\n",
        "\n",
        "result = adder(10, 20)\n",
        "print(\"Result:\", result, type(result))\n",
        "\n",
        "@convert_to_data_type(float)\n",
        "def adder(x, y):\n",
        "    return x + y\n",
        "\n",
        "result = adder(10, 20)\n",
        "print(\"Result:\", result, type(result))\n",
        "\n",
        "@convert_to_data_type(str)\n",
        "def adder(x, y):\n",
        "    return x + y\n",
        "\n",
        "result = adder(10, 20)\n",
        "print(\"Result:\", result, type(result))"
      ],
      "metadata": {
        "id": "TuyBJELqg3XB"
      },
      "execution_count": null,
      "outputs": []
    },
    {
      "cell_type": "code",
      "source": [
        "# Задание: напишите декоратор, который получает имя от декорируемой функции,\n",
        "# принимает в качестве аргумента часть дня (утро, день, вечер)\n",
        "# и выводит соответствующее приветствие для имени\n",
        "def greet(time='день'):\n",
        "    def greet_decorator(func):\n",
        "        def greet_person(*args, **kwargs):\n",
        "        # TODO\n",
        "\n",
        "\n",
        "@greet(time='утро')\n",
        "def morning():\n",
        "    name = input('Кто там? ')\n",
        "    return name\n",
        "\n",
        "@greet(time='день')\n",
        "def day():\n",
        "    name = input('Кто там? ')\n",
        "    return name\n",
        "\n",
        "@greet(time='вечер')\n",
        "def evening():\n",
        "    name = input('Кто там? ')\n",
        "    return name"
      ],
      "metadata": {
        "id": "_81_AQ9HkX3g"
      },
      "execution_count": null,
      "outputs": []
    },
    {
      "cell_type": "code",
      "source": [
        "print(morning())\n",
        "print(day())\n",
        "print(evening())"
      ],
      "metadata": {
        "id": "LTR2dYnkkX6j"
      },
      "execution_count": null,
      "outputs": []
    }
  ]
}