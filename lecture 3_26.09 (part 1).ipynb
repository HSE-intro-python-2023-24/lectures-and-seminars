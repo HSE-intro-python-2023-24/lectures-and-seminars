{
 "cells": [
  {
   "cell_type": "markdown",
   "metadata": {},
   "source": [
    "# Лекция №3 (часть 1)"
   ]
  },
  {
   "cell_type": "markdown",
   "metadata": {},
   "source": [
    "На лекции я показывал работу с отладчиком в VS Code.\n",
    "\n",
    "В формате Jupyter Notebook я не могу показать то же самое, поэтому примеры здесь отличаются."
   ]
  },
  {
   "cell_type": "markdown",
   "metadata": {},
   "source": [
    "## Пространства имён (namespace)"
   ]
  },
  {
   "cell_type": "markdown",
   "metadata": {},
   "source": [
    "### The Zen of Python"
   ]
  },
  {
   "cell_type": "code",
   "execution_count": 1,
   "metadata": {},
   "outputs": [
    {
     "name": "stdout",
     "output_type": "stream",
     "text": [
      "The Zen of Python, by Tim Peters\n",
      "\n",
      "Beautiful is better than ugly.\n",
      "Explicit is better than implicit.\n",
      "Simple is better than complex.\n",
      "Complex is better than complicated.\n",
      "Flat is better than nested.\n",
      "Sparse is better than dense.\n",
      "Readability counts.\n",
      "Special cases aren't special enough to break the rules.\n",
      "Although practicality beats purity.\n",
      "Errors should never pass silently.\n",
      "Unless explicitly silenced.\n",
      "In the face of ambiguity, refuse the temptation to guess.\n",
      "There should be one-- and preferably only one --obvious way to do it.\n",
      "Although that way may not be obvious at first unless you're Dutch.\n",
      "Now is better than never.\n",
      "Although never is often better than *right* now.\n",
      "If the implementation is hard to explain, it's a bad idea.\n",
      "If the implementation is easy to explain, it may be a good idea.\n",
      "Namespaces are one honking great idea -- let's do more of those!\n"
     ]
    }
   ],
   "source": [
    "import this"
   ]
  },
  {
   "cell_type": "markdown",
   "metadata": {},
   "source": [
    "Обратите внимание на последнюю строку:\n",
    "“Namespaces are one honking great idea — let's do more of those!”\n",
    "\n",
    "Что это значит?"
   ]
  },
  {
   "cell_type": "markdown",
   "metadata": {},
   "source": [
    "__Пространство имён — это словарь__, ключи которого — это имена, а значения — объекты (числа, строки, списки, словари, множества, функции...)."
   ]
  },
  {
   "cell_type": "markdown",
   "metadata": {},
   "source": [
    "### Пространства выполнения кода"
   ]
  },
  {
   "cell_type": "markdown",
   "metadata": {},
   "source": [
    "Отдельные пространства имён создаются при выполнении кода внутри:\n",
    "* модуля (файла),\n",
    "* функции,\n",
    "* безымянной функции (`lambda x: x + 1`),\n",
    "* безымянных выражений типа `[x + 1 for x in iterator]` (“list|set|dict comprehensions”)."
   ]
  },
  {
   "cell_type": "code",
   "execution_count": 2,
   "metadata": {},
   "outputs": [
    {
     "name": "stdout",
     "output_type": "stream",
     "text": [
      "{'a': 1, 'b': 2}\n"
     ]
    }
   ],
   "source": [
    "def example_f():\n",
    "    \"Пример пространства имён при выполнении функции\"\n",
    "    a = 1\n",
    "    b = 2\n",
    "    print(locals())  # распечатать локальное пространство имён\n",
    "    return a + b\n",
    "\n",
    "example_f();"
   ]
  },
  {
   "cell_type": "markdown",
   "metadata": {},
   "source": [
    "Пространство имён внутри модуля слишком велико, рассмотрим отдельные его элементы:"
   ]
  },
  {
   "cell_type": "code",
   "execution_count": 3,
   "metadata": {},
   "outputs": [
    {
     "name": "stdout",
     "output_type": "stream",
     "text": [
      "__main__\n",
      "Automatically created module for IPython interactive environment\n",
      "<module 'this' from '/usr/local/Cellar/python@3.11/3.11.5/Frameworks/Python.framework/Versions/3.11/lib/python3.11/this.py'>\n",
      "<function example_f at 0x10b3a1080>\n"
     ]
    }
   ],
   "source": [
    "# Некоторые элементы пространства имён исполняемого модуля\n",
    "print( locals()[\"__name__\"] )  # имя модуля\n",
    "print( locals()[\"__doc__\"] )   # строка документации к модулю\n",
    "print( locals()[\"this\"] )      # импортированный выше модуль\n",
    "print( locals()[\"example_f\"] ) # определённая выше функция"
   ]
  },
  {
   "cell_type": "markdown",
   "metadata": {},
   "source": [
    "List comprehensions:"
   ]
  },
  {
   "cell_type": "code",
   "execution_count": 4,
   "metadata": {},
   "outputs": [
    {
     "name": "stdout",
     "output_type": "stream",
     "text": [
      "Inside: {'.0': <range_iterator object at 0x10b386610>, 'x': 0, 'y': 0}\n",
      "Inside: {'.0': <range_iterator object at 0x10b386610>, 'x': 0, 'y': 1}\n",
      "Inside: {'.0': <range_iterator object at 0x10b386610>, 'x': 1, 'y': 0}\n",
      "Inside: {'.0': <range_iterator object at 0x10b386610>, 'x': 1, 'y': 1}\n",
      "Outside: {'result': [None, None, None, None]}\n"
     ]
    }
   ],
   "source": [
    "def example_g():\n",
    "    \"Пример пространства имён при выполнении 'list comprehension'\"\n",
    "    result = [\n",
    "        print(f\"Inside: { locals() }\") # распечатать локальное пространство имён\n",
    "        for x in range(2)\n",
    "        for y in range(2)\n",
    "    ]\n",
    "    print(f\"Outside: { locals() }\") # распечатать локальное пространство имён\n",
    "    return result\n",
    "\n",
    "example_g();"
   ]
  },
  {
   "cell_type": "markdown",
   "metadata": {},
   "source": [
    "### Пространства имён при объектах"
   ]
  },
  {
   "cell_type": "markdown",
   "metadata": {},
   "source": [
    "Кроме этого, своё пространство имён есть:\n",
    "* у каждого объекта,\n",
    "* у каждого класса объектов."
   ]
  },
  {
   "cell_type": "markdown",
   "metadata": {},
   "source": [
    "__Внимание: специальный синтаксис!__ Вместо `obj[\"name\"]` пишется `obj.name`."
   ]
  },
  {
   "cell_type": "markdown",
   "metadata": {},
   "source": [
    "Открытые файлы — это объекты:"
   ]
  },
  {
   "cell_type": "code",
   "execution_count": 5,
   "metadata": {},
   "outputs": [
    {
     "name": "stdout",
     "output_type": "stream",
     "text": [
      "<_io.TextIOWrapper name='example.txt' mode='w' encoding='utf-8'>\n"
     ]
    }
   ],
   "source": [
    "with open(\"example.txt\", \"w\", encoding=\"utf-8\") as file:\n",
    "    # объект-файл\n",
    "    print( file )"
   ]
  },
  {
   "cell_type": "code",
   "execution_count": 6,
   "metadata": {},
   "outputs": [
    {
     "name": "stdout",
     "output_type": "stream",
     "text": [
      "<class '_io.TextIOWrapper'>\n",
      "example.txt\n",
      "w\n",
      "utf-8\n"
     ]
    }
   ],
   "source": [
    "with open(\"example.txt\", \"w\", encoding=\"utf-8\") as file:\n",
    "    # Некоторые элементы пространства имён у объекта-файла\n",
    "    print( file.__class__ ) # класс объекта-файла\n",
    "    print( file.name )      # имя файла\n",
    "    print( file.mode )      # чтение или запись?\n",
    "    print( file.encoding )  # кодировка"
   ]
  },
  {
   "cell_type": "markdown",
   "metadata": {},
   "source": [
    "Функции — это тоже объекты."
   ]
  },
  {
   "cell_type": "code",
   "execution_count": 7,
   "metadata": {},
   "outputs": [
    {
     "name": "stdout",
     "output_type": "stream",
     "text": [
      "<function example_f at 0x10b3a1080>\n"
     ]
    }
   ],
   "source": [
    "# объект-функция\n",
    "print( example_f )"
   ]
  },
  {
   "cell_type": "code",
   "execution_count": 8,
   "metadata": {},
   "outputs": [
    {
     "name": "stdout",
     "output_type": "stream",
     "text": [
      "example_f\n",
      "Пример пространства имён при выполнении функции\n",
      "__main__\n",
      "<class 'function'>\n"
     ]
    }
   ],
   "source": [
    "# Некоторые элементы пространства имён у объекта-функции\n",
    "print( example_f.__name__ )   # имя функции при определении\n",
    "print( example_f.__doc__ )    # строка документации\n",
    "print( example_f.__module__ ) # модуль, где была определена функция\n",
    "print( example_f.__class__ )  # класс объекта-функции"
   ]
  },
  {
   "cell_type": "markdown",
   "metadata": {},
   "source": [
    "Мы будем проходить классы и объекты позже. Но, забегая вперёд, ещё несколько примеров:"
   ]
  },
  {
   "cell_type": "code",
   "execution_count": 9,
   "metadata": {},
   "outputs": [],
   "source": [
    "class MyClass:\n",
    "    \"Пример класса.\"\n",
    "\n",
    "    # пример поля\n",
    "    num = 42"
   ]
  },
  {
   "cell_type": "code",
   "execution_count": 10,
   "metadata": {},
   "outputs": [
    {
     "name": "stdout",
     "output_type": "stream",
     "text": [
      "<class '__main__.MyClass'>\n"
     ]
    }
   ],
   "source": [
    "# наш класс\n",
    "print( MyClass )"
   ]
  },
  {
   "cell_type": "code",
   "execution_count": 11,
   "metadata": {},
   "outputs": [
    {
     "name": "stdout",
     "output_type": "stream",
     "text": [
      "MyClass\n",
      "Пример класса.\n",
      "<class 'type'>\n",
      "42\n"
     ]
    }
   ],
   "source": [
    "# Некоторые элементы пространства имён у нашего класса\n",
    "print( MyClass.__name__ )     # имя класса при определении\n",
    "print( MyClass.__doc__ )      # строка документации\n",
    "print( MyClass.__class__ )    # класс объекта-класса\n",
    "print( MyClass.num )          # наш пример"
   ]
  },
  {
   "cell_type": "code",
   "execution_count": 12,
   "metadata": {},
   "outputs": [],
   "source": [
    "my_object = MyClass()\n",
    "\n",
    "# пусть имя \"s\" указывает на строку \"abc\"\n",
    "my_object.s = \"abc\""
   ]
  },
  {
   "cell_type": "code",
   "execution_count": 13,
   "metadata": {},
   "outputs": [
    {
     "name": "stdout",
     "output_type": "stream",
     "text": [
      "<__main__.MyClass object at 0x10b3b5490>\n"
     ]
    }
   ],
   "source": [
    "# объект\n",
    "print( my_object )"
   ]
  },
  {
   "cell_type": "code",
   "execution_count": 14,
   "metadata": {},
   "outputs": [
    {
     "name": "stdout",
     "output_type": "stream",
     "text": [
      "<class '__main__.MyClass'>\n",
      "abc\n"
     ]
    }
   ],
   "source": [
    "# Некоторые элементы пространства имён у нашего объекта\n",
    "print( my_object.__class__ )  # класс объекта\n",
    "print( my_object.s )          # наш пример"
   ]
  },
  {
   "cell_type": "markdown",
   "metadata": {},
   "source": [
    "## Матрёшки"
   ]
  },
  {
   "cell_type": "markdown",
   "metadata": {},
   "source": [
    "### Вложенные пространства выполнения кода"
   ]
  },
  {
   "cell_type": "markdown",
   "metadata": {},
   "source": [
    "__Общее правило:__ когда поток выполнения находится в одном пространстве имён, он не \"видит\" имена из других пространств имён.\n",
    "\n",
    "__Исключение:__ поток выполнения \"видит\" имена из того пространства, внутри которого было определено (создано) текущее пространство.\n",
    "* изнутри функции видно пространство имён модуля, где она была определена,\n",
    "* изнутри вложенной функции видно пространство имён родительской функции."
   ]
  },
  {
   "cell_type": "code",
   "execution_count": 15,
   "metadata": {},
   "outputs": [],
   "source": [
    "def outer_function():\n",
    "    \"Определение внешней функции.\"\n",
    "\n",
    "    # определим имя 'X' во внешнем пространстве имён\n",
    "    X = 1\n",
    "\n",
    "    def inner_function():\n",
    "        \"Определение внутренней функции.\"\n",
    "        # определим имя 'Y' во внутреннем пространстве имён\n",
    "        Y = 2\n",
    "\n",
    "        # что мы видим изнутри?\n",
    "        print( f\"Изнутри всё видно: X = {X}, Y = {Y}.\" )\n",
    "\n",
    "    # внешняя функция запускает внутреннюю\n",
    "    inner_function()"
   ]
  },
  {
   "cell_type": "code",
   "execution_count": 16,
   "metadata": {},
   "outputs": [
    {
     "name": "stdout",
     "output_type": "stream",
     "text": [
      "Изнутри всё видно: X = 1, Y = 2.\n"
     ]
    }
   ],
   "source": [
    "outer_function()"
   ]
  },
  {
   "cell_type": "markdown",
   "metadata": {},
   "source": [
    "__Изнутри нельзя нечаянно изменить привязку внешнего имени к объекту.__ Можно создать новое внутреннее имя, которое закрывает (затеняет) собой внешнее."
   ]
  },
  {
   "cell_type": "code",
   "execution_count": 17,
   "metadata": {},
   "outputs": [],
   "source": [
    "def another_outer_function():\n",
    "    \"Определение внешней функции.\"\n",
    "\n",
    "    # определим имя 'X' во внешнем пространстве имён\n",
    "    X = 1\n",
    "\n",
    "    def inner_function():\n",
    "        \"Определение внутренней функции.\"\n",
    "        X = 2\n",
    "        print( f\"Изнутри: X = {X}.\" )\n",
    "\n",
    "    # внешняя функция запускает внутреннюю\n",
    "    inner_function()\n",
    "\n",
    "    print( f\"Снаружи: X = {X}.\" )"
   ]
  },
  {
   "cell_type": "code",
   "execution_count": 18,
   "metadata": {},
   "outputs": [
    {
     "name": "stdout",
     "output_type": "stream",
     "text": [
      "Изнутри: X = 2.\n",
      "Снаружи: X = 1.\n"
     ]
    }
   ],
   "source": [
    "another_outer_function()"
   ]
  },
  {
   "cell_type": "markdown",
   "metadata": {},
   "source": [
    "Во избежание путаницы Питон запрещает использовать одно и то же имя сначала как внешнее, затем как внутреннее. Следующий пример не работает:"
   ]
  },
  {
   "cell_type": "code",
   "execution_count": 19,
   "metadata": {},
   "outputs": [],
   "source": [
    "def yet_another_outer_function():\n",
    "    \"Определение внешней функции.\"\n",
    "    X = 1\n",
    "\n",
    "    def inner_function():\n",
    "        \"Определение внутренней функции.\"\n",
    "        print( f\"Используем имя 'X' как внешнее: {X}.\" )\n",
    "        X = 2\n",
    "        print( f\"Используем имя 'X' как внутреннее: {X}.\" )\n",
    "\n",
    "    # внешняя функция запускает внутреннюю\n",
    "    inner_function()"
   ]
  },
  {
   "cell_type": "code",
   "execution_count": 20,
   "metadata": {},
   "outputs": [
    {
     "ename": "UnboundLocalError",
     "evalue": "cannot access local variable 'X' where it is not associated with a value",
     "output_type": "error",
     "traceback": [
      "\u001b[0;31m---------------------------------------------------------------------------\u001b[0m",
      "\u001b[0;31mUnboundLocalError\u001b[0m                         Traceback (most recent call last)",
      "\u001b[1;32m/Users/konstantin/hse/control_flow.ipynb Cell 41\u001b[0m line \u001b[0;36m1\n\u001b[0;32m----> <a href='vscode-notebook-cell:/Users/konstantin/hse/control_flow.ipynb#Y104sZmlsZQ%3D%3D?line=0'>1</a>\u001b[0m yet_another_outer_function()\n",
      "\u001b[1;32m/Users/konstantin/hse/control_flow.ipynb Cell 41\u001b[0m line \u001b[0;36m1\n\u001b[1;32m      <a href='vscode-notebook-cell:/Users/konstantin/hse/control_flow.ipynb#Y104sZmlsZQ%3D%3D?line=8'>9</a>\u001b[0m     \u001b[39mprint\u001b[39m( \u001b[39mf\u001b[39m\u001b[39m\"\u001b[39m\u001b[39mИспользуем имя \u001b[39m\u001b[39m'\u001b[39m\u001b[39mX\u001b[39m\u001b[39m'\u001b[39m\u001b[39m как внутреннее: \u001b[39m\u001b[39m{\u001b[39;00mX\u001b[39m}\u001b[39;00m\u001b[39m.\u001b[39m\u001b[39m\"\u001b[39m )\n\u001b[1;32m     <a href='vscode-notebook-cell:/Users/konstantin/hse/control_flow.ipynb#Y104sZmlsZQ%3D%3D?line=10'>11</a>\u001b[0m \u001b[39m# внешняя функция запускает внутреннюю\u001b[39;00m\n\u001b[0;32m---> <a href='vscode-notebook-cell:/Users/konstantin/hse/control_flow.ipynb#Y104sZmlsZQ%3D%3D?line=11'>12</a>\u001b[0m inner_function()\n",
      "\u001b[1;32m/Users/konstantin/hse/control_flow.ipynb Cell 41\u001b[0m line \u001b[0;36m7\n\u001b[1;32m      <a href='vscode-notebook-cell:/Users/konstantin/hse/control_flow.ipynb#Y104sZmlsZQ%3D%3D?line=4'>5</a>\u001b[0m \u001b[39mdef\u001b[39;00m \u001b[39minner_function\u001b[39m():\n\u001b[1;32m      <a href='vscode-notebook-cell:/Users/konstantin/hse/control_flow.ipynb#Y104sZmlsZQ%3D%3D?line=5'>6</a>\u001b[0m     \u001b[39m\"\u001b[39m\u001b[39mОпределение внутренней функции.\u001b[39m\u001b[39m\"\u001b[39m\n\u001b[0;32m----> <a href='vscode-notebook-cell:/Users/konstantin/hse/control_flow.ipynb#Y104sZmlsZQ%3D%3D?line=6'>7</a>\u001b[0m     \u001b[39mprint\u001b[39m( \u001b[39mf\u001b[39m\u001b[39m\"\u001b[39m\u001b[39mИспользуем имя \u001b[39m\u001b[39m'\u001b[39m\u001b[39mX\u001b[39m\u001b[39m'\u001b[39m\u001b[39m как внешнее: \u001b[39m\u001b[39m{\u001b[39;00mX\u001b[39m}\u001b[39;00m\u001b[39m.\u001b[39m\u001b[39m\"\u001b[39m )\n\u001b[1;32m      <a href='vscode-notebook-cell:/Users/konstantin/hse/control_flow.ipynb#Y104sZmlsZQ%3D%3D?line=7'>8</a>\u001b[0m     X \u001b[39m=\u001b[39m \u001b[39m2\u001b[39m\n\u001b[1;32m      <a href='vscode-notebook-cell:/Users/konstantin/hse/control_flow.ipynb#Y104sZmlsZQ%3D%3D?line=8'>9</a>\u001b[0m     \u001b[39mprint\u001b[39m( \u001b[39mf\u001b[39m\u001b[39m\"\u001b[39m\u001b[39mИспользуем имя \u001b[39m\u001b[39m'\u001b[39m\u001b[39mX\u001b[39m\u001b[39m'\u001b[39m\u001b[39m как внутреннее: \u001b[39m\u001b[39m{\u001b[39;00mX\u001b[39m}\u001b[39;00m\u001b[39m.\u001b[39m\u001b[39m\"\u001b[39m )\n",
      "\u001b[0;31mUnboundLocalError\u001b[0m: cannot access local variable 'X' where it is not associated with a value"
     ]
    }
   ],
   "source": [
    "yet_another_outer_function()"
   ]
  },
  {
   "cell_type": "markdown",
   "metadata": {},
   "source": [
    "Если мы сознательно желаете изменить значение внешнего имени, это делается ключевым словом `nonlocal` (для имён из модуля — `global`)."
   ]
  },
  {
   "cell_type": "code",
   "execution_count": 21,
   "metadata": {},
   "outputs": [],
   "source": [
    "def outer_function_with_mutation():\n",
    "    \"Определение внешней функции.\"\n",
    "    X = 1\n",
    "\n",
    "    def inner_function():\n",
    "        \"Определение внутренней функции.\"\n",
    "        nonlocal X # да, я осознанно меняю значение внешнего имени\n",
    "        X = 2\n",
    "\n",
    "    # внешняя функция запускает внутреннюю\n",
    "    inner_function()\n",
    "    print( f\"Снаружи: X = {X}.\" )"
   ]
  },
  {
   "cell_type": "code",
   "execution_count": 22,
   "metadata": {},
   "outputs": [
    {
     "name": "stdout",
     "output_type": "stream",
     "text": [
      "Снаружи: X = 2.\n"
     ]
    }
   ],
   "source": [
    "outer_function_with_mutation()"
   ]
  },
  {
   "cell_type": "markdown",
   "metadata": {},
   "source": [
    "### Продвинутый пример"
   ]
  },
  {
   "cell_type": "code",
   "execution_count": 23,
   "metadata": {},
   "outputs": [],
   "source": [
    "def create_inner_function():\n",
    "    \"Контекст, где внутренняя функция определена.\"\n",
    "\n",
    "    X = 1\n",
    "\n",
    "    def inner_function():\n",
    "        \"Определение внутренней функции.\"\n",
    "        print( f\"X = {X}\" )\n",
    "\n",
    "    return inner_function\n",
    "    "
   ]
  },
  {
   "cell_type": "code",
   "execution_count": 24,
   "metadata": {},
   "outputs": [],
   "source": [
    "def use_inner_function(func):\n",
    "    \"Контекст, где внутренняя функция используется.\"\n",
    "    X = 2\n",
    "    func()"
   ]
  },
  {
   "cell_type": "code",
   "execution_count": 25,
   "metadata": {},
   "outputs": [
    {
     "name": "stdout",
     "output_type": "stream",
     "text": [
      "X = 1\n"
     ]
    }
   ],
   "source": [
    "# запускаем функцию 'create_inner_function'\n",
    "# получаем оттуда функцию 'inner_function' (как объект)\n",
    "func = create_inner_function()\n",
    "\n",
    "# передаём 'inner_function' внутрь 'use_inner_function'\n",
    "# запускаем её там внутри\n",
    "use_inner_function(func)"
   ]
  }
 ],
 "metadata": {
  "kernelspec": {
   "display_name": ".env",
   "language": "python",
   "name": "python3"
  },
  "language_info": {
   "codemirror_mode": {
    "name": "ipython",
    "version": 3
   },
   "file_extension": ".py",
   "mimetype": "text/x-python",
   "name": "python",
   "nbconvert_exporter": "python",
   "pygments_lexer": "ipython3",
   "version": "3.11.5"
  },
  "orig_nbformat": 4
 },
 "nbformat": 4,
 "nbformat_minor": 2
}
