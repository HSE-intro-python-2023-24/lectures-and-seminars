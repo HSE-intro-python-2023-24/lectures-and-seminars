{
  "nbformat": 4,
  "nbformat_minor": 0,
  "metadata": {
    "colab": {
      "provenance": []
    },
    "kernelspec": {
      "name": "python3",
      "display_name": "Python 3"
    },
    "language_info": {
      "name": "python"
    }
  },
  "cells": [
    {
      "cell_type": "code",
      "source": [
        "import re"
      ],
      "metadata": {
        "id": "TKN4GJ8Jafa6"
      },
      "execution_count": 2,
      "outputs": []
    },
    {
      "cell_type": "markdown",
      "source": [
        "## Упражнение #1\n",
        "\n",
        "В файле text_1.txt находится информация о статьях в стиле bibtex. Нас интересуют авторы (authors=...). Для каждой статьи из строки про авторов нужно получить список очищенных полных имен (без пробелов, функциональных слов и открывающих и закрывающих фигурных скобок)."
      ],
      "metadata": {
        "id": "gmR3bZiA_P6J"
      }
    },
    {
      "cell_type": "code",
      "source": [
        "with open(\"text_1.txt\", \"r\", encoding=\"utf-8\") as file:\n",
        "    text = file.read()"
      ],
      "metadata": {
        "id": "ALGYHDV59QXS"
      },
      "execution_count": 3,
      "outputs": []
    },
    {
      "cell_type": "code",
      "source": [
        "regex = \"author={(.*)}\"\n",
        "authors = re.findall(regex, text)\n",
        "clean_authors = []\n",
        "\n",
        "# TODO\n",
        "for a in authors:\n",
        "    a_new = a.split(\" and \")\n",
        "    clean_authors.append(a_new)\n",
        "\n",
        "clean_authors"
      ],
      "metadata": {
        "id": "hAiDhEotDHYG",
        "colab": {
          "base_uri": "https://localhost:8080/"
        },
        "outputId": "c270eb5a-3913-4293-97e8-5b3e5cd3c4d7"
      },
      "execution_count": 17,
      "outputs": [
        {
          "output_type": "execute_result",
          "data": {
            "text/plain": [
              "[['Diaz, Navarro David', 'Gines, Rodriguez Noe'],\n",
              " ['Standefer, Michael', 'Bay, Janet W', 'Trusso, Russell'],\n",
              " ['GenTSCH, JoN R',\n",
              "  'Glass, RI',\n",
              "  'Woods, P',\n",
              "  'Gouvea, V',\n",
              "  'Gorziglia, M',\n",
              "  'Flores, J',\n",
              "  'Das, BK',\n",
              "  'Bhan, MK'],\n",
              " ['Arellano-Baeza, A', 'Zverev, A', 'Malinnikov, V'],\n",
              " ['Kordesch, Karl', 'Simader, G{\\\\\"u}nter', 'Wiley, John'],\n",
              " ['Trainor, Sarah F',\n",
              "  'Calef, Monika',\n",
              "  'Natcher, David',\n",
              "  'Chapin, F Stuart',\n",
              "  'McGuire, A David',\n",
              "  'Huntington, Orville',\n",
              "  'Duffy, Paul',\n",
              "  'Rupp, T Scott',\n",
              "  \"DeWilde, La'Ona\",\n",
              "  'Kwart, Mary',\n",
              "  'others']]"
            ]
          },
          "metadata": {},
          "execution_count": 17
        }
      ]
    },
    {
      "cell_type": "markdown",
      "source": [
        "## Упражнение # 2\n",
        "\n",
        "Написать регулярное выражение для вытаскивания фамилий и инициалов авторов статей и книг из файла text_2.txt"
      ],
      "metadata": {
        "id": "zg-z76XkcFgL"
      }
    },
    {
      "cell_type": "code",
      "source": [
        "with open(\"text_2.txt\", \"r\", encoding=\"utf-8\") as file:\n",
        "    text = file.read()"
      ],
      "metadata": {
        "id": "EgjcQTunat1f"
      },
      "execution_count": 19,
      "outputs": []
    },
    {
      "cell_type": "code",
      "source": [
        "regex = \"\\d*.\\s*([^:]*)?.*\"\n",
        "authors = re.findall(regex, text)\n",
        "\n",
        "result = []\n",
        "\n",
        "for a in authors:\n",
        "    ind_authors = re.findall(\"([^,]*,\\s[A-Z|\\.]*),?\", a)\n",
        "    authors_clean = [i.strip() for i in ind_authors]\n",
        "    result.append(authors_clean)\n",
        "\n",
        "result"
      ],
      "metadata": {
        "id": "2U-hSdpNa2Yh",
        "colab": {
          "base_uri": "https://localhost:8080/"
        },
        "outputId": "f90a07fa-d7d0-41de-b038-8a8bd84da461"
      },
      "execution_count": 26,
      "outputs": [
        {
          "output_type": "execute_result",
          "data": {
            "text/plain": [
              "[['Spalding, K.L.',\n",
              "  'Buchholz, B.A.',\n",
              "  'Bergman, L.E.',\n",
              "  'Druid, H.',\n",
              "  'Frisén, J.'],\n",
              " ['Lovecraft, H.P.'],\n",
              " ['Duncan, R.'],\n",
              " ['Santos, N.', 'Hoshino, Y.'],\n",
              " ['DIARRHOEA, R.'],\n",
              " ['Barton, T.'],\n",
              " ['Gauquelin, M.'],\n",
              " ['Hoshino, Y.',\n",
              "  'Sereno, M.M.',\n",
              "  'Midthun, K.',\n",
              "  'Flores, J.',\n",
              "  'Kapikian, A.Z.',\n",
              "  'Chanock, R.M.'],\n",
              " ['Healy, J.',\n",
              "  'Hayden, C.',\n",
              "  'Xie, T.',\n",
              "  'Olson, K.',\n",
              "  'Waldo, R.',\n",
              "  'Brundage, M.',\n",
              "  'Gasteiger, H.',\n",
              "  'Abbott, J.'],\n",
              " ['Lovecraft, H.P.'],\n",
              " ['Socco, L.', 'Strobbia, C.', 'Sambuelli, L.', 'Foti, S.'],\n",
              " ['Lovecraft, H.P.', 'Turner, J.'],\n",
              " ['Alighieri, D.'],\n",
              " ['Cumont, F.V.M.'],\n",
              " ['McClatchey, R.A.', 'Fenn, R.', 'Selby, J.A.', 'Volz, F.', 'Garing, J.'],\n",
              " ['GenTSCH, J.R.',\n",
              "  'Glass, R.',\n",
              "  'Woods, P.',\n",
              "  'Gouvea, V.',\n",
              "  'Gorziglia, M.',\n",
              "  'Flores, J.',\n",
              "  'Das, B.',\n",
              "  'Bhan, M.'],\n",
              " ['Murphy, T.V.',\n",
              "  'Gargiullo, P.M.',\n",
              "  'Massoudi, M.S.',\n",
              "  'Nelson, D.B.',\n",
              "  'Jumaan, A.O.',\n",
              "  'Okoro, C.A.',\n",
              "  'Zanardi, L.R.',\n",
              "  'Setia, S.',\n",
              "  'Fair, E.',\n",
              "  'LeBaron, C.W.'],\n",
              " ['Delmay, B.'],\n",
              " ['Kurucz, R.'],\n",
              " ['Andrewes, D.G.', 'Holton, J.R.', 'Leovy, C.B.'],\n",
              " ['Welch, T.A.'],\n",
              " ['Alighieri, D.', 'Landino, C.', 'da Figino, P.', 'Capcasa, M.'],\n",
              " ['Tester, S.J.'],\n",
              " ['Craig, H.', 'Gordon, L.I.']]"
            ]
          },
          "metadata": {},
          "execution_count": 26
        }
      ]
    },
    {
      "cell_type": "markdown",
      "source": [
        "## Упражнение # 3\n",
        "\n",
        "Дана некоторая html страница -- text_3.html. Из нее нужно вытащить контент всех хедеров. Хедеры задаются открывающим тегом \\<h1> и закрывающим \\<\\h1>. Бывают хедеры уровней 2, 3, 4 и т.д. Нам нужны они все :)"
      ],
      "metadata": {
        "id": "G9PqBdSliNQp"
      }
    },
    {
      "cell_type": "code",
      "source": [
        "with open(\"text_3.html\", \"r\", encoding=\"utf-8\") as file:\n",
        "    text = file.read()"
      ],
      "metadata": {
        "id": "h3DiqnCCiWJy"
      },
      "execution_count": 27,
      "outputs": []
    },
    {
      "cell_type": "code",
      "source": [
        "regex = \"<h\\d>.*<.h\\d>\"\n",
        "headers = re.findall(regex, text)"
      ],
      "metadata": {
        "id": "8ITcXAajibV4"
      },
      "execution_count": null,
      "outputs": []
    },
    {
      "cell_type": "markdown",
      "source": [
        "Теперь из списка с хедерами нужно вытащить заголовки (title=...)."
      ],
      "metadata": {
        "id": "nBpnBo1W9C2G"
      }
    },
    {
      "cell_type": "code",
      "source": [
        "regex = 'title=\"([^\"]*)?'\n",
        "\n",
        "titles = []\n",
        "\n",
        "# TODO\n",
        "for h in headers:\n",
        "    title = re.findall(regex, h)\n",
        "    titles.append(title)\n",
        "\n",
        "titles"
      ],
      "metadata": {
        "id": "La2vqCgv84MD",
        "colab": {
          "base_uri": "https://localhost:8080/"
        },
        "outputId": "f939a1d9-3e4c-4a65-9de0-fa26f4fab767"
      },
      "execution_count": 39,
      "outputs": [
        {
          "output_type": "execute_result",
          "data": {
            "text/plain": [
              "[['Modifica la sezione Galleria fotografica'],\n",
              " [],\n",
              " [],\n",
              " [''],\n",
              " [],\n",
              " [],\n",
              " [],\n",
              " [],\n",
              " ['Modifica la sezione Televisione'],\n",
              " [],\n",
              " ['', ''],\n",
              " ['', ''],\n",
              " ['', ''],\n",
              " [],\n",
              " [],\n",
              " [],\n",
              " [],\n",
              " [],\n",
              " [],\n",
              " ['Modifica la sezione Voci correlate'],\n",
              " ['', '', '', ''],\n",
              " ['Modifica la sezione Ciclismo'],\n",
              " []]"
            ]
          },
          "metadata": {},
          "execution_count": 39
        }
      ]
    },
    {
      "cell_type": "markdown",
      "source": [
        "## Упражнение # 4\n",
        "\n",
        "Дана строка, содержащая имена, никнеймы, номера телефонов и имейлы пользователей твиттера. Нужно получить словарь, в качестве ключей содержащий никнеймы, а в качестве значений -- словари с данными соответствующего пользователя:\n",
        "```\n",
        "\"@ivashka666\": {\n",
        "    \"name\": \"Ivan Ivanov\",\n",
        "    \"phone\": \"123-123-123\",\n",
        "    \"email\": \"ivashka@yahoo.com\",\n",
        "}\n",
        "```"
      ],
      "metadata": {
        "id": "-mcbO6AuI3aj"
      }
    },
    {
      "cell_type": "code",
      "source": [
        "string = '''Love, Kenneth, kenneth+challenge@teamtreehouse.com, 555-555-5555, @kennethlove\n",
        "Chalkley, Andrew, andrew@teamtreehouse.co.uk, 555-555-5556, @chalkers\n",
        "McFarland, Dave, dave.mcfarland@teamtreehouse.com, 555-555-5557, @davemcfarland\n",
        "Kesten, Joy, joy@teamtreehouse.com, 555-555-5558, @joykesten'''"
      ],
      "metadata": {
        "id": "k6EH89PhJB-B"
      },
      "execution_count": 42,
      "outputs": []
    },
    {
      "cell_type": "code",
      "source": [
        "print(string)"
      ],
      "metadata": {
        "colab": {
          "base_uri": "https://localhost:8080/"
        },
        "id": "ARkAotA1JqKm",
        "outputId": "b151240f-866b-46ff-835c-7c374286d792"
      },
      "execution_count": null,
      "outputs": [
        {
          "output_type": "stream",
          "name": "stdout",
          "text": [
            "Love, Kenneth, kenneth+challenge@teamtreehouse.com, 555-555-5555, @kennethlove\n",
            "Chalkley, Andrew, andrew@teamtreehouse.co.uk, 555-555-5556, @chalkers\n",
            "McFarland, Dave, dave.mcfarland@teamtreehouse.com, 555-555-5557, @davemcfarland\n",
            "Kesten, Joy, joy@teamtreehouse.com, 555-555-5558, @joykesten\n"
          ]
        }
      ]
    },
    {
      "cell_type": "code",
      "source": [
        "twitters = {}\n",
        "\n",
        "names = re.findall(\"[A-Za-z]+,\\s[A-Za-z]+\", string)\n",
        "\n",
        "nicknames = re.findall(\"\\s(@.*)\", string)\n",
        "\n",
        "phones = re.findall(\"\\d.*\\D?\\d\", string)  #[\\d|-]+\n",
        "\n",
        "emails = re.findall(\"[\\w.+]+@[\\w.]+\\.[a-zA-Z]+\", string) #\\s([a-z][.+@a-z]+)\n",
        "\n",
        "# TODO\n",
        "for i, nn in enumerate(nicknames):\n",
        "    d = {\n",
        "        \"name\": names[i],\n",
        "        \"phone\": phones[i],\n",
        "        \"email\": emails[i],\n",
        "    }\n",
        "    twitters[nn] = d\n",
        "\n",
        "for item in twitters.items():\n",
        "    print(item)"
      ],
      "metadata": {
        "id": "Ou3COzSvFvvH",
        "colab": {
          "base_uri": "https://localhost:8080/"
        },
        "outputId": "3ac17b89-b9b9-456e-820d-bf7b54a22c55"
      },
      "execution_count": 62,
      "outputs": [
        {
          "output_type": "stream",
          "name": "stdout",
          "text": [
            "('@kennethlove', {'name': 'Love, Kenneth', 'phone': '555-555-5555', 'email': 'kenneth+challenge@teamtreehouse.com'})\n",
            "('@chalkers', {'name': 'Chalkley, Andrew', 'phone': '555-555-5556', 'email': 'andrew@teamtreehouse.co.uk'})\n",
            "('@davemcfarland', {'name': 'McFarland, Dave', 'phone': '555-555-5557', 'email': 'dave.mcfarland@teamtreehouse.com'})\n",
            "('@joykesten', {'name': 'Kesten, Joy', 'phone': '555-555-5558', 'email': 'joy@teamtreehouse.com'})\n"
          ]
        }
      ]
    },
    {
      "cell_type": "code",
      "source": [],
      "metadata": {
        "id": "tgNQWanm006t"
      },
      "execution_count": null,
      "outputs": []
    }
  ]
}