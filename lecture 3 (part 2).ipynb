{
 "cells": [
  {
   "cell_type": "markdown",
   "metadata": {},
   "source": [
    "# Лекция №3 (часть 2)"
   ]
  },
  {
   "cell_type": "markdown",
   "metadata": {},
   "source": [
    "## Распиливание больших функций"
   ]
  },
  {
   "cell_type": "markdown",
   "metadata": {},
   "source": [
    "### Трагический пример"
   ]
  },
  {
   "cell_type": "code",
   "execution_count": 1,
   "metadata": {},
   "outputs": [],
   "source": [
    "def long_function():\n",
    "    x = \"very important info\"\n",
    "\n",
    "    ...\n",
    "\n",
    "    for x in range(10):\n",
    "        ...\n",
    "    \n",
    "    ...\n",
    "\n",
    "    return x"
   ]
  },
  {
   "cell_type": "code",
   "execution_count": 2,
   "metadata": {},
   "outputs": [
    {
     "data": {
      "text/plain": [
       "False"
      ]
     },
     "execution_count": 2,
     "metadata": {},
     "output_type": "execute_result"
    }
   ],
   "source": [
    "# 😱 😱 😱\n",
    "long_function() == \"very important info\""
   ]
  },
  {
   "cell_type": "markdown",
   "metadata": {},
   "source": [
    "В предыдущем примере мы нечаянно перезаписали важную информацию.\n",
    "\n",
    "Практический вывод: __количество переменных в функции должно быть небольшим и обозримым__.\n",
    "\n",
    "Для этого связанные куски кода должны выноситься в отдельные функции."
   ]
  },
  {
   "cell_type": "code",
   "execution_count": 3,
   "metadata": {},
   "outputs": [],
   "source": [
    "def auxiliary_function():\n",
    "    ...\n",
    "    for x in range(10):\n",
    "        ...\n",
    "    ...\n",
    "\n",
    "def main_function():\n",
    "    x = \"very important info\"\n",
    "    ...\n",
    "    auxiliary_function()\n",
    "    ...\n",
    "    return x"
   ]
  },
  {
   "cell_type": "code",
   "execution_count": 4,
   "metadata": {},
   "outputs": [
    {
     "data": {
      "text/plain": [
       "True"
      ]
     },
     "execution_count": 4,
     "metadata": {},
     "output_type": "execute_result"
    }
   ],
   "source": [
    "main_function() == \"very important info\""
   ]
  },
  {
   "cell_type": "markdown",
   "metadata": {},
   "source": [
    "### Стратегии выделения вспомогательных функций"
   ]
  },
  {
   "cell_type": "markdown",
   "metadata": {},
   "source": [
    "Рассмотрим пример:"
   ]
  },
  {
   "cell_type": "code",
   "execution_count": 5,
   "metadata": {},
   "outputs": [],
   "source": [
    "def another_long_function():\n",
    "    \"Пример функции с несколькими вложенными циклами.\"\n",
    "    with open(\"output.txt\", \"w\", encoding=\"utf-8\") as file:\n",
    "        for x in range(100):\n",
    "            for y in range(200):\n",
    "                z = x + y\n",
    "                message = f\"{x} + {y} = {z}\"\n",
    "                file.write(message)"
   ]
  },
  {
   "cell_type": "markdown",
   "metadata": {},
   "source": [
    "Мы можем вынести самые внутренние части цикла во __вспомогательную функцию__."
   ]
  },
  {
   "cell_type": "code",
   "execution_count": 6,
   "metadata": {},
   "outputs": [],
   "source": [
    "def write_sum(file, x, y):\n",
    "    \"Вспомогательная функция со внутренней частью цикла.\"\n",
    "    z = x + y\n",
    "    message = f\"{x} + {y} = {z}\"\n",
    "    file.write(message)\n",
    "\n",
    "def main_function_1():\n",
    "    \"Главная функция со внешней частью цикла.\"\n",
    "    with open(\"output.txt\", \"w\", encoding=\"utf-8\") as file:\n",
    "        for x in range(100):\n",
    "            for y in range(200):\n",
    "                write_sum(file, x, y)  # отсюда мы вынули кусок кода"
   ]
  },
  {
   "cell_type": "markdown",
   "metadata": {},
   "source": [
    "Или мы можем выносить самые внешние части цикла во __вспомогательный итератор__:"
   ]
  },
  {
   "cell_type": "code",
   "execution_count": 7,
   "metadata": {},
   "outputs": [],
   "source": [
    "def create_iterator():\n",
    "    \"\"\"\n",
    "    Вспомогательная функция, создающая итератор.\n",
    "    (Итератор выполняет внешнюю часть цикла.)\n",
    "    \"\"\"\n",
    "    with open(\"output.txt\", \"w\", encoding=\"utf-8\") as file:\n",
    "        for x in range(100):\n",
    "            for y in range(200):\n",
    "                yield file, x, y\n",
    "\n",
    "def main_function_2():\n",
    "    \"Главная функция со внутренней частью цикла.\"\n",
    "    it = create_iterator()\n",
    "    for (file, x, y) in it:  # отсюда мы вынули кусок кода\n",
    "        z = x + y\n",
    "        message = f\"{x} + {y} = {z}\"\n",
    "        file.write(message)"
   ]
  },
  {
   "cell_type": "markdown",
   "metadata": {},
   "source": [
    "## Итераторы"
   ]
  },
  {
   "cell_type": "markdown",
   "metadata": {},
   "source": [
    "Если внутри функции есть хотя бы одно ключевое слово `yield`, то она выполняется _лениво_:\n",
    "* при вызове функции создаётся и возвращается итератор,\n",
    "* итератор помнит своё внутреннее пространство имён,\n",
    "* итератор помнит то место в коде, где приостановилось выполнение функции,\n",
    "* при переборе элементов итератора в цикле `for`:\n",
    "  * функция выполняется от последней точки остановки до ближайшего слова `yield`,\n",
    "  * если процесс выполнения дошёл до конца функции или до `return`, итератор исчерпан."
   ]
  },
  {
   "cell_type": "code",
   "execution_count": 8,
   "metadata": {},
   "outputs": [],
   "source": [
    "def create_iterator():\n",
    "\n",
    "    x = 1\n",
    "    print( f\"Inside iterator: {locals()}\" )\n",
    "    yield x\n",
    "\n",
    "    y = 2\n",
    "    print( f\"Inside iterator: {locals()}\" )\n",
    "    yield y\n",
    "\n",
    "    z = 3\n",
    "    print( f\"Inside iterator: {locals()}\" )\n",
    "    yield z\n",
    "\n",
    "    return \"Iteration stops here.\"  # 🙅 🙅 🙅\n",
    "\n",
    "    w = 5\n",
    "    print( \"This code never runs.\")\n",
    "    yield w"
   ]
  },
  {
   "cell_type": "code",
   "execution_count": 9,
   "metadata": {},
   "outputs": [
    {
     "name": "stdout",
     "output_type": "stream",
     "text": [
      "<generator object create_iterator at 0x111c81990>\n"
     ]
    }
   ],
   "source": [
    "it = create_iterator()\n",
    "print(it)"
   ]
  },
  {
   "cell_type": "code",
   "execution_count": 10,
   "metadata": {},
   "outputs": [
    {
     "name": "stdout",
     "output_type": "stream",
     "text": [
      "Inside iterator: {'x': 1}\n"
     ]
    },
    {
     "data": {
      "text/plain": [
       "1"
      ]
     },
     "execution_count": 10,
     "metadata": {},
     "output_type": "execute_result"
    }
   ],
   "source": [
    "next(it)"
   ]
  },
  {
   "cell_type": "code",
   "execution_count": 11,
   "metadata": {},
   "outputs": [
    {
     "name": "stdout",
     "output_type": "stream",
     "text": [
      "Inside iterator: {'x': 1, 'y': 2}\n"
     ]
    },
    {
     "data": {
      "text/plain": [
       "2"
      ]
     },
     "execution_count": 11,
     "metadata": {},
     "output_type": "execute_result"
    }
   ],
   "source": [
    "next(it)"
   ]
  },
  {
   "cell_type": "code",
   "execution_count": 12,
   "metadata": {},
   "outputs": [
    {
     "name": "stdout",
     "output_type": "stream",
     "text": [
      "Inside iterator: {'x': 1, 'y': 2, 'z': 3}\n"
     ]
    },
    {
     "data": {
      "text/plain": [
       "3"
      ]
     },
     "execution_count": 12,
     "metadata": {},
     "output_type": "execute_result"
    }
   ],
   "source": [
    "next(it)"
   ]
  },
  {
   "cell_type": "markdown",
   "metadata": {},
   "source": [
    "Внутри итератора была строка `return \"Iteration stops here.\"`\n",
    "\n",
    "Ключевое слово `return` внутри итератора может положить сообщение внутрь `StopIteration`."
   ]
  },
  {
   "cell_type": "code",
   "execution_count": 14,
   "metadata": {},
   "outputs": [
    {
     "ename": "StopIteration",
     "evalue": "",
     "output_type": "error",
     "traceback": [
      "\u001b[0;31m---------------------------------------------------------------------------\u001b[0m",
      "\u001b[0;31mStopIteration\u001b[0m                             Traceback (most recent call last)",
      "\u001b[1;32m/Users/konstantin/Documents/GitHub/lectures-and-seminars/lecture 3 (part 2).ipynb Cell 24\u001b[0m line \u001b[0;36m1\n\u001b[0;32m----> <a href='vscode-notebook-cell:/Users/konstantin/Documents/GitHub/lectures-and-seminars/lecture%203%20%28part%202%29.ipynb#X44sZmlsZQ%3D%3D?line=0'>1</a>\u001b[0m \u001b[39mnext\u001b[39;49m(it)\n",
      "\u001b[0;31mStopIteration\u001b[0m: "
     ]
    }
   ],
   "source": [
    "next(it)"
   ]
  },
  {
   "cell_type": "markdown",
   "metadata": {},
   "source": [
    "## Исключения"
   ]
  },
  {
   "cell_type": "markdown",
   "metadata": {},
   "source": [
    "### Неудобный пример"
   ]
  },
  {
   "cell_type": "code",
   "execution_count": 15,
   "metadata": {},
   "outputs": [],
   "source": [
    "def get_number_from_user() -> int | None:\n",
    "    \"\"\"\n",
    "    Запросить число у пользователя.\n",
    "    Если пользователь ввёл не число, вернуть None.\n",
    "    \"\"\"\n",
    "    user_input = input(\"Enter a number: \")\n",
    "    if user_input.isdigit():\n",
    "        return int(user_input)\n",
    "    else:\n",
    "        return None\n",
    "\n",
    "\n",
    "def add_10(num: int | None) -> int | None:\n",
    "    \"\"\"\n",
    "    Прибавить к числу 10 (если это число).\n",
    "    \"\"\"\n",
    "    if num is None:\n",
    "        return None\n",
    "    else:\n",
    "        return num + 10\n",
    "\n",
    "\n",
    "def twice(num: int | None) -> int | None:\n",
    "    \"\"\"\n",
    "    Умножить число на 2 (если это число).\n",
    "    \"\"\"\n",
    "    if num is None:\n",
    "        return None\n",
    "    else:\n",
    "        return num * 2\n",
    "\n",
    "def main():\n",
    "    \"Сложное математическое выражение.\"\n",
    "    num1 = twice(add_10(get_number_from_user()))\n",
    "    num2 = add_10(twice(get_number_from_user()))\n",
    "    if num1 is None or num2 is None:\n",
    "        return 42\n",
    "    else:\n",
    "        return num1 + num2"
   ]
  },
  {
   "cell_type": "markdown",
   "metadata": {},
   "source": [
    "Бóльшая часть кода — это механические операции по проверке полученного значения:\n",
    "```python\n",
    "    if num is None:\n",
    "            return None\n",
    "    else:\n",
    "        ...\n",
    "```\n",
    "\n",
    "Чем это плохо?\n",
    "* Занимает много места, отвлекает внимание от важных вещей.\n",
    "* Легко ошибиться и забыть такую проверку.\n",
    "* Просто бесит."
   ]
  },
  {
   "cell_type": "markdown",
   "metadata": {},
   "source": [
    "### Удобный пример"
   ]
  },
  {
   "cell_type": "code",
   "execution_count": 16,
   "metadata": {},
   "outputs": [],
   "source": [
    "def get_number_from_user() -> int:\n",
    "    \"\"\"\n",
    "    Запросить число у пользователя.\n",
    "    Если пользователь ввёл не число, кинуть исключение ValueError.\n",
    "    \"\"\"\n",
    "    user_input = input(\"Enter a number: \")\n",
    "    if user_input.isdigit():\n",
    "        return int(user_input)\n",
    "    else:\n",
    "        raise ValueError  # 🚀\n",
    "\n",
    "\n",
    "def add_10(num: int) -> int:\n",
    "    \"Прибавить к числу 10.\"\n",
    "    return num + 10\n",
    "\n",
    "\n",
    "def twice(num: int | None) -> int:\n",
    "    \"Умножить число на 2 (если это число).\"\n",
    "    return num * 2\n",
    "\n",
    "def main():\n",
    "    \"Сложное математическое выражение.\"\n",
    "    try:\n",
    "        num1 = twice(add_10(get_number_from_user()))\n",
    "        num2 = add_10(twice(get_number_from_user()))\n",
    "        return num1 + num2\n",
    "    except ValueError:  # 🧑🏼‍🚀\n",
    "        return 42"
   ]
  },
  {
   "cell_type": "markdown",
   "metadata": {},
   "source": [
    "Брошенное исключение пролетает через стэк вызовов, пока не долетит до точки перехвата (`except`)."
   ]
  },
  {
   "cell_type": "markdown",
   "metadata": {},
   "source": [
    "В нашем примере:\n",
    "```python\n",
    "   try:\n",
    "      num1 = twice(add_10(get_number_from_user()))\n",
    "   except ValueError:\n",
    "      ...\n",
    "```\n",
    "\n",
    "Исключение, вылетевшее из `get_number_from_user`, пролетает через `add_10` и `twice`, а затем перехватывается в `main`.\n",
    "\n",
    "Функции `add_10` и `twice` __не должны ничего знать об этом__. Они пишутся просто и естественно."
   ]
  },
  {
   "cell_type": "markdown",
   "metadata": {},
   "source": [
    "### Бонусный пример"
   ]
  },
  {
   "cell_type": "markdown",
   "metadata": {},
   "source": [
    "Как работает цикл `for`."
   ]
  },
  {
   "cell_type": "code",
   "execution_count": 17,
   "metadata": {},
   "outputs": [],
   "source": [
    "def automatic_iterator():\n",
    "    \"Автоматическая размотка итератора в цикле `for`.\"\n",
    "    for item in range(10):\n",
    "        print(item, end=\" \")"
   ]
  },
  {
   "cell_type": "code",
   "execution_count": 18,
   "metadata": {},
   "outputs": [],
   "source": [
    "def handmade_iterator():\n",
    "    \"Размотка итератора своими руками.\"\n",
    "    it = iter(range(10))\n",
    "    while True:\n",
    "        try:\n",
    "            item = next(it)\n",
    "            print(item, end=\" \")\n",
    "        except StopIteration:\n",
    "            break"
   ]
  },
  {
   "cell_type": "code",
   "execution_count": 19,
   "metadata": {},
   "outputs": [
    {
     "name": "stdout",
     "output_type": "stream",
     "text": [
      "0 1 2 3 4 5 6 7 8 9 "
     ]
    }
   ],
   "source": [
    "automatic_iterator()"
   ]
  },
  {
   "cell_type": "code",
   "execution_count": 20,
   "metadata": {},
   "outputs": [
    {
     "name": "stdout",
     "output_type": "stream",
     "text": [
      "0 1 2 3 4 5 6 7 8 9 "
     ]
    }
   ],
   "source": [
    "handmade_iterator()"
   ]
  }
 ],
 "metadata": {
  "kernelspec": {
   "display_name": "Python 3",
   "language": "python",
   "name": "python3"
  },
  "language_info": {
   "codemirror_mode": {
    "name": "ipython",
    "version": 3
   },
   "file_extension": ".py",
   "mimetype": "text/x-python",
   "name": "python",
   "nbconvert_exporter": "python",
   "pygments_lexer": "ipython3",
   "version": "3.11.5"
  },
  "orig_nbformat": 4
 },
 "nbformat": 4,
 "nbformat_minor": 2
}
