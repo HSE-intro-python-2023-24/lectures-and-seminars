{
  "nbformat": 4,
  "nbformat_minor": 0,
  "metadata": {
    "colab": {
      "provenance": []
    },
    "kernelspec": {
      "name": "python3",
      "display_name": "Python 3"
    },
    "language_info": {
      "name": "python"
    }
  },
  "cells": [
    {
      "cell_type": "markdown",
      "source": [
        "# Связанный список"
      ],
      "metadata": {
        "id": "STzDdSXtDiNj"
      }
    },
    {
      "cell_type": "markdown",
      "source": [
        "Связанный список — это линейная структура данных, в которой элементы не хранятся в смежных областях памяти. Элементы в таком списке связаны между собой с помощью указателей:\n",
        "![](https://media.geeksforgeeks.org/wp-content/cdn-uploads/gq/2013/03/Linkedlist.png)\n",
        "\n",
        "Связанный список представлен как указатель на первый узел, который называется Head. Если связанный список пуст, то значение в Head равно NULL. Каждый узел в списке состоит как минимум из двух частей: данных и указателя (или ссылки) на следующий узел.\n",
        "\n",
        "Используется для хранения и доступа к произвольному количеству данных."
      ],
      "metadata": {
        "id": "-LdXs7s3Dkrj"
      }
    },
    {
      "cell_type": "code",
      "execution_count": 2,
      "metadata": {
        "id": "9HpJRUR-DM5g"
      },
      "outputs": [],
      "source": [
        "# Класс узла\n",
        "class Node:\n",
        "\t# Инициализация объекта узел\n",
        "\tdef __init__(self, data):\n",
        "\t\tself.data = data # присваиваем данные\n",
        "\t\tself.next = None # инициализируем\n",
        "\t\t\t\t\t\t# далее - null\n",
        "\n",
        "# Класс связанного списка\n",
        "class LinkedList:\n",
        "\t# Инициализация связанного списка\n",
        "\t# объект - список\n",
        "\tdef __init__(self):\n",
        "\t\tself.head = None"
      ]
    },
    {
      "cell_type": "code",
      "source": [
        "# начнём с пустого списка\n",
        "llist = LinkedList()\n",
        "\n",
        "llist.head = Node(1)\n",
        "second = Node(2)\n",
        "third = Node(3)\n",
        "\n",
        "'''\n",
        "Создали три узла.\n",
        "Их имена: head, second и third\n",
        "\n",
        "llist.head\t   second\t\t   third\n",
        "  |\t\t\t |\t\t\t\t |\n",
        "  |\t\t\t |\t\t\t\t |\n",
        "+----+------+\t +----+------+\t +----+------+\n",
        "| 1 | None |\t | 2 | None |\t | 3 | None |\n",
        "+----+------+\t +----+------+\t +----+------+\n",
        "'''\n",
        "\n",
        "llist.head.next = second # связываем первый узел со вторым\n",
        "\n",
        "'''\n",
        "Первый узел ссылается на второй.\n",
        "Теперь они связаны.\n",
        "\n",
        "llist.head\t   second\t\t   third\n",
        "  |\t\t\t |\t\t\t\t |\n",
        "  |\t\t\t |\t\t\t\t |\n",
        "+----+------+\t +----+------+\t +----+------+\n",
        "| 1 | o-------->| 2 | null |\t | 3 | null |\n",
        "+----+------+\t +----+------+\t +----+------+\n",
        "'''\n",
        "\n",
        "second.next = third # связываем второй узел с третьим\n",
        "\n",
        "'''\n",
        "  Второй узел ссылается на третий.\n",
        "Теперь они связаны.\n",
        "\n",
        "llist.head\t second\t\t\t third\n",
        "  |\t\t\t |\t\t\t\t |\n",
        "  |\t\t\t |\t\t\t\t |\n",
        "+----+------+\t +----+------+\t +----+------+\n",
        "| 1 | o-------->| 2 | o-------->| 3 | null |\n",
        "+----+------+\t +----+------+\t +----+------+\n",
        "'''"
      ],
      "metadata": {
        "colab": {
          "base_uri": "https://localhost:8080/",
          "height": 53
        },
        "id": "QFceTG9iEknA",
        "outputId": "4e593026-9568-4cbe-9bc9-310ebf36d33f"
      },
      "execution_count": 3,
      "outputs": [
        {
          "output_type": "execute_result",
          "data": {
            "text/plain": [
              "'\\n  Второй узел ссылается на третий.\\nТеперь они связаны.\\n\\nllist.head\\t second\\t\\t\\t third\\n  |\\t\\t\\t |\\t\\t\\t\\t |\\n  |\\t\\t\\t |\\t\\t\\t\\t |\\n+----+------+\\t +----+------+\\t +----+------+\\n| 1 | o-------->| 2 | o-------->| 3 | null |\\n+----+------+\\t +----+------+\\t +----+------+\\n'"
            ],
            "application/vnd.google.colaboratory.intrinsic+json": {
              "type": "string"
            }
          },
          "metadata": {},
          "execution_count": 3
        }
      ]
    },
    {
      "cell_type": "markdown",
      "source": [
        "## Обход связанного списка\n",
        "Для обхода напишем в классе LinkedList метод print_list(), который выводит в консоль любой данный ей список."
      ],
      "metadata": {
        "id": "SJDO03djE481"
      }
    },
    {
      "cell_type": "code",
      "source": [
        "class LinkedList:\n",
        "\tdef __init__(self):\n",
        "\t\tself.head = None\n",
        "\n",
        "\t# печатает содержимое связанного списка\n",
        "\tdef print_list(self):\n",
        "\t\ttemp = self.head\n",
        "\t\twhile temp:\n",
        "\t\t\tprint(temp.data)\n",
        "\t\t\ttemp = temp.next\n",
        "\n",
        "\n",
        "llist = LinkedList()\n",
        "\n",
        "llist.head = Node(1)\n",
        "second = Node(2)\n",
        "third = Node(3)\n",
        "\n",
        "llist.head.next = second\n",
        "second.next = third\n",
        "\n",
        "llist.print_list()"
      ],
      "metadata": {
        "colab": {
          "base_uri": "https://localhost:8080/"
        },
        "id": "4Xngmrc0EslN",
        "outputId": "a4f061de-724d-43e7-9471-33de3efb7770"
      },
      "execution_count": 4,
      "outputs": [
        {
          "output_type": "stream",
          "name": "stdout",
          "text": [
            "1\n",
            "2\n",
            "3\n"
          ]
        }
      ]
    },
    {
      "cell_type": "markdown",
      "source": [
        "# Стек (Stack)"
      ],
      "metadata": {
        "id": "YGwMP91dFcuU"
      }
    },
    {
      "cell_type": "markdown",
      "source": [
        "Линейная структура данных, которая хранит элементы по принципу «последний вошел/первый вышел» (LIFO) или «первый вошел/последний вышел» (FILO). В стеке новый элемент добавляется и удаляется только с одного конца. Операции вставки и удаления часто называют push и pop.\n",
        "\n",
        "![](https://media.geeksforgeeks.org/wp-content/cdn-uploads/gq/2013/03/stack.png)\n",
        "\n",
        "Функции стека:\n",
        "- empty() — возвращает, пуст ли стек, сложность: O(1)\n",
        "- size() — возвращает размер стека, сложность: O(1)\n",
        "- top() — возвращает ссылку на самый верхний элемент стека, сложность: O(1)\n",
        "- push(a) — вставляет элемент 'a' на вершину стека, сложность: O(1)\n",
        "- pop() — удаляет самый верхний элемент стека, сложность: O(1)"
      ],
      "metadata": {
        "id": "zsSkIiCPFeTy"
      }
    },
    {
      "cell_type": "code",
      "source": [
        "stack = []\n",
        "\n",
        "# добавление элементов\n",
        "stack.append('g')\n",
        "stack.append('f')\n",
        "stack.append('g')\n",
        "print('Начальный стек')\n",
        "print(stack)\n",
        "\n",
        "# удаление элементов\n",
        "print('\\nУдаление элементов:')\n",
        "print(stack.pop())\n",
        "print(stack.pop())\n",
        "print(stack.pop())\n",
        "\n",
        "print('\\nФинальный стек:')\n",
        "print(stack)"
      ],
      "metadata": {
        "colab": {
          "base_uri": "https://localhost:8080/"
        },
        "id": "KnglCj2fFXyr",
        "outputId": "41d8c0fd-72e0-43cd-dde0-8a5c3cf3b425"
      },
      "execution_count": 5,
      "outputs": [
        {
          "output_type": "stream",
          "name": "stdout",
          "text": [
            "Начальный стек\n",
            "['g', 'f', 'g']\n",
            "\n",
            "Удаление элементов:\n",
            "g\n",
            "f\n",
            "g\n",
            "\n",
            "Финальный стек:\n",
            "[]\n"
          ]
        }
      ]
    },
    {
      "cell_type": "markdown",
      "source": [
        "# Очередь (Queue)"
      ],
      "metadata": {
        "id": "Akkk3fabGvAJ"
      }
    },
    {
      "cell_type": "markdown",
      "source": [
        "Как и стек, очередь представляет собой линейную структуру данных, которая хранит элементы по принципу «первым пришел — первым ушел» (FIFO). В очереди первым удаляется последний добавленный элемент.\n",
        "\n",
        "![](https://media.geeksforgeeks.org/wp-content/cdn-uploads/gq/2014/02/Queue.png)\n",
        "\n",
        "С очередью связаны следующие операции:\n",
        "- Enqueue: добавляет элемент в очередь. Если очередь переполнена, то говорят о состоянии переполнения, сложность: O(1)\n",
        "- Dequeue: удаляет элемент из очереди. Элементы выгружаются в том же порядке, в котором они были вставлены. Если очередь пуста, то считается, что это условие переполнения, сложность: O(1)\n",
        "- Front: получает первый элемент из очереди, сложность: O(1)\n",
        "- Rear: получает последний элемент из очереди, cложность: O(1)"
      ],
      "metadata": {
        "id": "lQn1grPTGy2-"
      }
    },
    {
      "cell_type": "code",
      "source": [
        "# создаём очередь\n",
        "queue = []\n",
        "\n",
        "# добавляем в неё элементы\n",
        "queue.append('g')\n",
        "queue.append('f')\n",
        "queue.append('g')\n",
        "print(\"Исходная очередь\")\n",
        "print(queue)\n",
        "\n",
        "# убираем элементы из очереди\n",
        "print(\"\\nУдалённые элементы\")\n",
        "print(queue.pop(0))\n",
        "print(queue.pop(0))\n",
        "print(queue.pop(0))\n",
        "\n",
        "print(\"\\nОчередь после удаления элементов\")\n",
        "print(queue)"
      ],
      "metadata": {
        "colab": {
          "base_uri": "https://localhost:8080/"
        },
        "id": "Fqyngi0uGn43",
        "outputId": "08f273e6-a6f0-4254-d2ef-5f2f7025f116"
      },
      "execution_count": 6,
      "outputs": [
        {
          "output_type": "stream",
          "name": "stdout",
          "text": [
            "Исходная очередь\n",
            "['g', 'f', 'g']\n",
            "\n",
            "Удалённые элементы\n",
            "g\n",
            "f\n",
            "g\n",
            "\n",
            "Очередь после удаления элементов\n",
            "[]\n"
          ]
        }
      ]
    },
    {
      "cell_type": "markdown",
      "source": [
        "# Очередь с приоритетом"
      ],
      "metadata": {
        "id": "0Vj2gdE4HqOy"
      }
    },
    {
      "cell_type": "markdown",
      "source": [
        "Это абстрактные структуры данных, в которых каждое значение в очереди имеет определённый приоритет. Например, в авиакомпаниях багаж с названием «Бизнес» или «Первый класс» прибывает раньше остальных. Очередь с приоритетом — это расширение обычной очереди со следующими свойствами:\n",
        "- элемент с высоким приоритетом выгружается раньше элемента с низким приоритетом.\n",
        "- если два элемента имеют одинаковый приоритет, они обслуживаются в соответствии с их порядком в очереди."
      ],
      "metadata": {
        "id": "LQHI6KDMHsYd"
      }
    },
    {
      "cell_type": "code",
      "source": [
        "class PriorityQueue(object):\n",
        "\tdef __init__(self):\n",
        "\t\tself.queue = []\n",
        "\n",
        "\tdef __str__(self):\n",
        "\t\treturn ' '.join([str(i) for i in self.queue])\n",
        "\n",
        "\t# проверяет, пуста ли очередь\n",
        "\tdef isEmpty(self):\n",
        "\t\treturn len(self.queue) == 0\n",
        "\n",
        "\t# добавляет элемент в очередь\n",
        "\tdef insert(self, data):\n",
        "\t\tself.queue.append(data)\n",
        "\n",
        "\t# удаляет элемент по приоритету\n",
        "\tdef delete(self):\n",
        "\t\ttry:\n",
        "\t\t\tmax = 0\n",
        "\t\t\tfor i in range(len(self.queue)):\n",
        "\t\t\t\tif self.queue[i] > self.queue[max]:\n",
        "\t\t\t\t\tmax = i\n",
        "\t\t\titem = self.queue[max]\n",
        "\t\t\tdel self.queue[max]\n",
        "\t\t\treturn item\n",
        "\t\texcept IndexError:\n",
        "\t\t\tprint()\n",
        "\t\t\texit()\n",
        "\n",
        "if __name__ == '__main__':\n",
        "\tmyQueue = PriorityQueue()\n",
        "\tmyQueue.insert(12)\n",
        "\tmyQueue.insert(1)\n",
        "\tmyQueue.insert(14)\n",
        "\tmyQueue.insert(7)\n",
        "\tprint(myQueue)\n",
        "\twhile not myQueue.isEmpty():\n",
        "\t\tprint(myQueue.delete())"
      ],
      "metadata": {
        "colab": {
          "base_uri": "https://localhost:8080/"
        },
        "id": "azQsds7cHglf",
        "outputId": "3ea37b57-0573-4b49-ab71-232c9cc9159a"
      },
      "execution_count": 7,
      "outputs": [
        {
          "output_type": "stream",
          "name": "stdout",
          "text": [
            "12 1 14 7\n",
            "14\n",
            "12\n",
            "7\n",
            "1\n"
          ]
        }
      ]
    },
    {
      "cell_type": "markdown",
      "source": [
        "# Куча (Heap)"
      ],
      "metadata": {
        "id": "09bIC0fWIReq"
      }
    },
    {
      "cell_type": "markdown",
      "source": [
        "Модуль heapq в Python позволяет создать структуру данных под элегантным названием «куча» или Heap, которая, как правило, представляет собой очередь с приоритетом. Свойство этой структуры данных заключается в том, что она всегда выдает наименьший элемент (min heap).\n",
        "\n",
        "При добавлении или удалении элемента структура данных сохраняется. heap[0] также каждый раз возвращает наименьший элемент.\n",
        "\n",
        "В целом, кучи могут быть двух типов:\n",
        "- Max-Heap: ключ, находящийся в корневом узле, должен быть наибольшим среди ключей, находящихся во всех его дочерних узлах. Это же свойство должно быть рекурсивно истинным для всех поддеревьев этого дерева.\n",
        "- Min-Heap: ключ, находящийся в корневом узле, должен быть наименьшим среди ключей, присутствующих во всех его дочерних узлах. Это же свойство должно быть рекурсивно истинным для всех поддеревьев этого дерева.\n",
        "\n",
        "![](https://img3.teletype.in/files/2f/12/2f12f989-69c1-4652-9e69-00fd12ec53e4.png)"
      ],
      "metadata": {
        "id": "nKyaz5_LIS3_"
      }
    },
    {
      "cell_type": "code",
      "source": [
        "# импортируем библиотеку\n",
        "import heapq\n",
        "\n",
        "# создаём список\n",
        "li = [5, 7, 9, 1, 3]\n",
        "\n",
        "# превращаем список в кучу\n",
        "heapq.heapify(li)\n",
        "\n",
        "# выводим кучу\n",
        "print(\"Куча: \",end=\"\")\n",
        "print(list(li))\n",
        "\n",
        "# добавляем элемент\n",
        "heapq.heappush(li,4)\n",
        "\n",
        "# выводим результат\n",
        "print(\"Изменённая куча: \",end=\"\")\n",
        "print(list(li))\n",
        "\n",
        "# получаем наименьший элемент\n",
        "print(\"Наименьший элемент - \",end=\"\")\n",
        "print(heapq.heappop(li))"
      ],
      "metadata": {
        "colab": {
          "base_uri": "https://localhost:8080/"
        },
        "id": "sYwtODDyH_-S",
        "outputId": "3e3ba788-274c-4561-b286-3dfeae576de6"
      },
      "execution_count": 8,
      "outputs": [
        {
          "output_type": "stream",
          "name": "stdout",
          "text": [
            "Куча: [1, 3, 9, 7, 5]\n",
            "Изменённая куча: [1, 3, 4, 7, 5, 9]\n",
            "Наименьший элемент - 1\n"
          ]
        }
      ]
    },
    {
      "cell_type": "code",
      "source": [],
      "metadata": {
        "id": "y6-091kMI4wV"
      },
      "execution_count": null,
      "outputs": []
    }
  ]
}