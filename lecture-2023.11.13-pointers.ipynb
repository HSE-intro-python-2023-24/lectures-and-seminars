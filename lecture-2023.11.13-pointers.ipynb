{
 "cells": [
  {
   "cell_type": "markdown",
   "metadata": {},
   "source": [
    "# Имена и объекты"
   ]
  },
  {
   "cell_type": "markdown",
   "metadata": {},
   "source": [
    "## Ячейки памяти"
   ]
  },
  {
   "cell_type": "markdown",
   "metadata": {},
   "source": [
    "Память компьютера состоит из [ячеек](https://ru.wikipedia.org/wiki/Ячейка_памяти). Типичный размер ячейки — 8 битов, т.е. 1 байт.\n",
    "\n",
    "У каждой ячейки есть ядрес. Для простоты мы можем считать, что нумерация одномерная и непрерывная, т.е. ячейки пронумерованы числами 0, 1, 2, 3 и т.д. (На самом деле адресация памяти устроена [сложнее](https://ru.wikipedia.org/wiki/Адресация_памяти). Непрерывная одномерная нумерация памяти — это удобная для нас **абстрация**, которая скрывает под собой множество деталей.)"
   ]
  },
  {
   "cell_type": "markdown",
   "metadata": {},
   "source": [
    "## Адрес объекта"
   ]
  },
  {
   "cell_type": "markdown",
   "metadata": {},
   "source": [
    "Все объекты, создающиеся при выполнении программы на Питоне, занимают место в памяти: несколько подряд идущих ячеек.\n",
    "\n",
    "Адресом объекта считается адрес его первой ячейки.\n",
    "\n",
    "Мы можем узнать адрес объекта с помощью встроенной функции [id](https://docs.python.org/3/library/functions.html#id)."
   ]
  },
  {
   "cell_type": "code",
   "execution_count": 1,
   "metadata": {},
   "outputs": [
    {
     "data": {
      "text/plain": [
       "140710286538560"
      ]
     },
     "execution_count": 1,
     "metadata": {},
     "output_type": "execute_result"
    }
   ],
   "source": [
    "s = \"abc\"\n",
    "id(s)"
   ]
  },
  {
   "cell_type": "markdown",
   "metadata": {},
   "source": [
    "## Равенство и тождество"
   ]
  },
  {
   "cell_type": "markdown",
   "metadata": {},
   "source": [
    "**Равенство** объектов означает, что объекты **одинаковы**.\n",
    "\n",
    "**Тождество** объектов означает, что перед нами **один объект под двумя разными именами**.\n",
    "\n",
    "Равенство проверяется оператором `==`, тождество проверяется оператором `is`."
   ]
  },
  {
   "cell_type": "code",
   "execution_count": 2,
   "metadata": {},
   "outputs": [
    {
     "name": "stdout",
     "output_type": "stream",
     "text": [
      "True\n",
      "False\n"
     ]
    }
   ],
   "source": [
    "x = (\"ab\" + \"c\").upper()\n",
    "y = \"ABCD\"[0:3]\n",
    "\n",
    "print(x == y)\n",
    "print(x is y)"
   ]
  },
  {
   "cell_type": "code",
   "execution_count": 3,
   "metadata": {},
   "outputs": [
    {
     "name": "stdout",
     "output_type": "stream",
     "text": [
      "True\n",
      "True\n"
     ]
    }
   ],
   "source": [
    "z = y\n",
    "\n",
    "print(y == z)\n",
    "print(y is z)"
   ]
  },
  {
   "cell_type": "code",
   "execution_count": 4,
   "metadata": {},
   "outputs": [
    {
     "name": "stdout",
     "output_type": "stream",
     "text": [
      "1779321337296\n",
      "1779343692816\n",
      "1779343692816\n"
     ]
    }
   ],
   "source": [
    "print(id(x))\n",
    "print(id(y))\n",
    "print(id(z))"
   ]
  },
  {
   "cell_type": "markdown",
   "metadata": {},
   "source": [
    "## Указатели"
   ]
  },
  {
   "cell_type": "markdown",
   "metadata": {},
   "source": [
    "**Указатель** (pointer) — это объект, который хранит адрес другого объекта. Можно считать, что указатель — это целое положительное число плюс информация о том, что это число должно интерпретироваться как адрес.\n",
    "\n",
    "Языки системного программирования (`C`, `C++`, `Rust` и т.д.) позволяют манипулировать указателями напрямую: например, перебирать объекты в диапазоне адресов. Питон такой возможности не даёт. Тем не менее, знать про указатели необходимо для понимания происходящего."
   ]
  },
  {
   "cell_type": "markdown",
   "metadata": {},
   "source": [
    "## Коллекции (list, set, dict)"
   ]
  },
  {
   "cell_type": "markdown",
   "metadata": {},
   "source": [
    "На первых лекциях мы говорили о коллекциях как о контейнерах (коробках, ящиках), в которых лежат объекты. В первом приближении это полезная метафора, но сейчас она начинает нам мешать.\n",
    "\n",
    "Заметим, что один и тот же объект может лежать в нескольких коллекциях.\n",
    "\n",
    "Мы можем проверить, что это один и тот же объект с помощью оператора `is` или простым сравнением адресов."
   ]
  },
  {
   "cell_type": "code",
   "execution_count": 5,
   "metadata": {},
   "outputs": [],
   "source": [
    "obj = \"example\"\n",
    "\n",
    "my_list = [obj, obj]\n",
    "my_set = {obj}\n",
    "my_dict = {\"key\": obj}"
   ]
  },
  {
   "cell_type": "code",
   "execution_count": 6,
   "metadata": {},
   "outputs": [
    {
     "data": {
      "text/plain": [
       "True"
      ]
     },
     "execution_count": 6,
     "metadata": {},
     "output_type": "execute_result"
    }
   ],
   "source": [
    "(\n",
    "    obj\n",
    "    is my_list[0]\n",
    "    is my_list[1]\n",
    "    is next(iter(my_set))\n",
    "    is my_dict[\"key\"]\n",
    ")"
   ]
  },
  {
   "cell_type": "code",
   "execution_count": 7,
   "metadata": {},
   "outputs": [
    {
     "name": "stdout",
     "output_type": "stream",
     "text": [
      "1779343693296\n",
      "1779343693296\n",
      "1779343693296\n",
      "1779343693296\n",
      "1779343693296\n"
     ]
    }
   ],
   "source": [
    "print(id(obj))\n",
    "print(id(my_list[0]))\n",
    "print(id(my_list[1]))\n",
    "print(id(next(iter(my_set))))\n",
    "print(id(my_dict[\"key\"]))"
   ]
  },
  {
   "cell_type": "markdown",
   "metadata": {},
   "source": [
    "На самом деле в коллекциях хранятся **указатели** на объекты."
   ]
  },
  {
   "cell_type": "markdown",
   "metadata": {},
   "source": [
    "### Рекурсивные структуры данных"
   ]
  },
  {
   "cell_type": "markdown",
   "metadata": {},
   "source": [
    "Метафора \"коллекция = коробка\" окончательно ломается, когда мы помещаем внутрь коллекции ссылку на неё же."
   ]
  },
  {
   "cell_type": "code",
   "execution_count": 8,
   "metadata": {},
   "outputs": [
    {
     "name": "stdout",
     "output_type": "stream",
     "text": [
      "[0, 1, 2, [...]]\n",
      "[0, 1, 2, [...]]\n"
     ]
    }
   ],
   "source": [
    "my_list = [0, 1, 2]\n",
    "my_list.append(my_list)\n",
    "\n",
    "print(my_list)\n",
    "print(my_list[3])"
   ]
  },
  {
   "cell_type": "code",
   "execution_count": 9,
   "metadata": {},
   "outputs": [
    {
     "data": {
      "text/plain": [
       "True"
      ]
     },
     "execution_count": 9,
     "metadata": {},
     "output_type": "execute_result"
    }
   ],
   "source": [
    "my_list is my_list[3]"
   ]
  },
  {
   "cell_type": "markdown",
   "metadata": {},
   "source": [
    "Бывают и взаимно-рекурсивные (вложенные друг в друга) структуры."
   ]
  },
  {
   "cell_type": "code",
   "execution_count": 10,
   "metadata": {},
   "outputs": [],
   "source": [
    "husband = {\"name\": \"John\", \"wife\": None}\n",
    "wife = {\"name\": \"Mary\", \"husband\": None}\n",
    "\n",
    "husband[\"wife\"] = wife\n",
    "wife[\"husband\"] = husband\n",
    "\n",
    "family = {\"husband\": husband, \"wife\": wife}"
   ]
  },
  {
   "cell_type": "code",
   "execution_count": 11,
   "metadata": {},
   "outputs": [
    {
     "name": "stdout",
     "output_type": "stream",
     "text": [
      "{'husband': {'name': 'John',\n",
      "             'wife': {'husband': <Recursion on dict with id=1779339196736>,\n",
      "                      'name': 'Mary'}},\n",
      " 'wife': {'husband': {'name': 'John',\n",
      "                      'wife': <Recursion on dict with id=1779339189376>},\n",
      "          'name': 'Mary'}}\n"
     ]
    }
   ],
   "source": [
    "# Используем pretty-print, чтобы лучше разглядеть.\n",
    "from pprint import pprint\n",
    "\n",
    "pprint(family)"
   ]
  },
  {
   "cell_type": "code",
   "execution_count": 12,
   "metadata": {},
   "outputs": [
    {
     "data": {
      "text/plain": [
       "True"
      ]
     },
     "execution_count": 12,
     "metadata": {},
     "output_type": "execute_result"
    }
   ],
   "source": [
    "(\n",
    "    family[\"wife\"]\n",
    "    is family[\"husband\"][\"wife\"]\n",
    "    is family[\"wife\"][\"husband\"][\"wife\"]\n",
    "    is family[\"husband\"][\"wife\"][\"husband\"][\"wife\"]\n",
    "    is family[\"wife\"][\"husband\"][\"wife\"][\"husband\"][\"wife\"]\n",
    ")"
   ]
  },
  {
   "cell_type": "markdown",
   "metadata": {},
   "source": [
    "Лингвистический аналог прохода по закольцованным ссылкам: _муж своей жены_, _слуга своего господина_."
   ]
  },
  {
   "cell_type": "markdown",
   "metadata": {},
   "source": [
    "## Классы и экземпляры классов"
   ]
  },
  {
   "cell_type": "markdown",
   "metadata": {},
   "source": [
    "Любой класс — это тоже объект: он хранится в памяти, имеет адрес, на него могут указывать указатели, он может содержать указатели и т.д."
   ]
  },
  {
   "cell_type": "code",
   "execution_count": 13,
   "metadata": {},
   "outputs": [],
   "source": [
    "class MyClass:\n",
    "    \"Пример класса\"\n",
    "\n",
    "    def my_method(self):\n",
    "        \"Пример метода\"\n",
    "        return\n",
    "\n",
    "# Другое имя\n",
    "MyClassAlias = MyClass"
   ]
  },
  {
   "cell_type": "code",
   "execution_count": 14,
   "metadata": {},
   "outputs": [
    {
     "name": "stdout",
     "output_type": "stream",
     "text": [
      "1779322438144\n",
      "1779322438144\n"
     ]
    }
   ],
   "source": [
    "print(id(MyClass))\n",
    "print(id(MyClassAlias))"
   ]
  },
  {
   "cell_type": "code",
   "execution_count": 15,
   "metadata": {},
   "outputs": [
    {
     "data": {
      "text/plain": [
       "True"
      ]
     },
     "execution_count": 15,
     "metadata": {},
     "output_type": "execute_result"
    }
   ],
   "source": [
    "MyClassAlias is MyClass"
   ]
  },
  {
   "cell_type": "markdown",
   "metadata": {},
   "source": [
    "Экземпляры классов иногда называют объектами. Это неточное словоупотребление: правильнее называть их экземплярами (instance). Объектами являются и экземпляры, и сами классы, и методы классов. (**Everything is an object.**)"
   ]
  },
  {
   "cell_type": "markdown",
   "metadata": {},
   "source": [
    "Мы можем использовать любое из имён класса для создания экземпляров."
   ]
  },
  {
   "cell_type": "code",
   "execution_count": 16,
   "metadata": {},
   "outputs": [],
   "source": [
    "obj1 = MyClass()\n",
    "obj2 = MyClassAlias()"
   ]
  },
  {
   "cell_type": "markdown",
   "metadata": {},
   "source": [
    "**Каждый экземпляр содержит в себе указатель на класс**: специальный атрибут `__class__`."
   ]
  },
  {
   "cell_type": "code",
   "execution_count": 17,
   "metadata": {},
   "outputs": [
    {
     "name": "stdout",
     "output_type": "stream",
     "text": [
      "<class '__main__.MyClass'>\n",
      "<class '__main__.MyClass'>\n"
     ]
    }
   ],
   "source": [
    "print(obj1.__class__)\n",
    "print(obj2.__class__)"
   ]
  },
  {
   "cell_type": "code",
   "execution_count": 18,
   "metadata": {},
   "outputs": [
    {
     "data": {
      "text/plain": [
       "True"
      ]
     },
     "execution_count": 18,
     "metadata": {},
     "output_type": "execute_result"
    }
   ],
   "source": [
    "obj1.__class__ is obj2.__class__ is MyClass"
   ]
  },
  {
   "cell_type": "markdown",
   "metadata": {},
   "source": [
    "В Питоне есть встроенная функция `type`, которая возвращает класс своего аргумента."
   ]
  },
  {
   "cell_type": "code",
   "execution_count": 19,
   "metadata": {},
   "outputs": [
    {
     "name": "stdout",
     "output_type": "stream",
     "text": [
      "<class '__main__.MyClass'>\n"
     ]
    }
   ],
   "source": [
    "print(type(obj1))"
   ]
  },
  {
   "cell_type": "markdown",
   "metadata": {},
   "source": [
    "Функции и методы тоже являются объектами, и у них есть свой класс."
   ]
  },
  {
   "cell_type": "code",
   "execution_count": 20,
   "metadata": {},
   "outputs": [
    {
     "name": "stdout",
     "output_type": "stream",
     "text": [
      "<class 'function'>\n",
      "<class 'method'>\n"
     ]
    }
   ],
   "source": [
    "print(MyClass.my_method.__class__)\n",
    "print(obj1.my_method.__class__)"
   ]
  },
  {
   "cell_type": "markdown",
   "metadata": {},
   "source": [
    "Всё в Питоне является объектами (включая классы / типы данных). Как далеко мы уйдём, проверяя классы классов?\n",
    "\n",
    "Класс всех классов называется \"тип\". Он является и своим же собственным классом."
   ]
  },
  {
   "cell_type": "code",
   "execution_count": 21,
   "metadata": {},
   "outputs": [
    {
     "name": "stdout",
     "output_type": "stream",
     "text": [
      "<class 'type'>\n"
     ]
    }
   ],
   "source": [
    "print(MyClass.__class__)"
   ]
  },
  {
   "cell_type": "code",
   "execution_count": 22,
   "metadata": {},
   "outputs": [
    {
     "data": {
      "text/plain": [
       "True"
      ]
     },
     "execution_count": 22,
     "metadata": {},
     "output_type": "execute_result"
    }
   ],
   "source": [
    "T = MyClass.__class__\n",
    "T is T.__class__ is T.__class__.__class__"
   ]
  },
  {
   "cell_type": "markdown",
   "metadata": {},
   "source": [
    "## Пространства имён"
   ]
  },
  {
   "cell_type": "markdown",
   "metadata": {},
   "source": [
    "**Пространство имён** — это словарь, где ключи — это указатели на имена, а значения — это указатели на объекты, названные этими именами.\n",
    "\n",
    "Своё пространство имён есть в каждом контексте: например, в файле вне функций, внутри функций в процессе выполнения и т.д."
   ]
  },
  {
   "cell_type": "markdown",
   "metadata": {},
   "source": [
    "Выражение типа `name = value` называется **присваивание** (присваивание значения имени в текущем пространстве имён).\n",
    "\n",
    "**Переменная** — это пара \"имя + значение\". Само по себе имя не является переменной. Само по себе значение тоже не является переменной.\n",
    "\n",
    "Заметим, что переменные слева и справа от оператора `=` используются по-разному: от левой переменной берётся только имя, а от правой — только значение."
   ]
  },
  {
   "cell_type": "markdown",
   "metadata": {},
   "source": [
    "## Параметры и аргументы функций"
   ]
  },
  {
   "cell_type": "markdown",
   "metadata": {},
   "source": [
    "Рассмотрим пример:"
   ]
  },
  {
   "cell_type": "code",
   "execution_count": 23,
   "metadata": {},
   "outputs": [],
   "source": [
    "def add(x, y):\n",
    "    return x + y\n",
    "\n",
    "a = 1\n",
    "b = 2\n",
    "c = add(a, b)"
   ]
  },
  {
   "cell_type": "markdown",
   "metadata": {},
   "source": [
    "В определении функции `add` есть два **параметра**: `x` и `y`. Параметры — это имена без значений.\n",
    "\n",
    "При вызове функции `add` туда передаются два **аргумента**: `1` и `2`. Аргументы — это значения без имён.\n",
    "\n",
    "В момент вызова происходит связывание параметров с аргументами: имя `x` получает значение `1`, имя `y` получает значение `2`."
   ]
  },
  {
   "cell_type": "markdown",
   "metadata": {},
   "source": [
    "Заметим, что переданные в функцию объекты имеют по два имени: во внутреннем контексте это имена \"x\" и \"y\", а во внешнем контексте это имена \"a\" и \"b\"."
   ]
  },
  {
   "cell_type": "markdown",
   "metadata": {},
   "source": [
    "## Сборщик мусора и время жизни объектов"
   ]
  },
  {
   "cell_type": "markdown",
   "metadata": {},
   "source": [
    "Код, который мы пишем на Питоне, может только создавать объекты, но не уничтожать их."
   ]
  },
  {
   "cell_type": "code",
   "execution_count": 24,
   "metadata": {},
   "outputs": [],
   "source": [
    "# создаётся объект\n",
    "# расходуется память\n",
    "obj = MyClass()"
   ]
  },
  {
   "cell_type": "markdown",
   "metadata": {},
   "source": [
    "Уничтожением объектов в фоновом режиме занимается сборщик мусора (garbage collector).\n",
    "\n",
    "У каждого объекта есть счётчик входящих ссылок. Когда у объекта появляется новое имя — счётчик увеличивается на 1. Имя удаляется — счётчик уменьшается на 1. Ссылка на объект помещается в коллекцию или в поле класса — счётчик увеличивается на 1. И так далее.\n",
    "\n",
    "Когда счётчик входящих ссылок показывает 0, сборщик мусора *может* удалить этот объект. Он не обязан делать это немедленно.\n",
    "\n",
    "Неудалённые объекты без входящих ссылок некоторое время существуют *где-то*. Они недостижимы для работающей программы, т.к. ссылок, ведущих к ним, не осталось.\n",
    "\n",
    "([Подъём зомби-объектов](https://en.wikipedia.org/wiki/Object_resurrection) возможен в исключительных обстоятельствах.)"
   ]
  },
  {
   "cell_type": "markdown",
   "metadata": {},
   "source": [
    "Вывод: **объект гарантированно жив, пока кто-нибудь про него помнит**."
   ]
  },
  {
   "cell_type": "markdown",
   "metadata": {},
   "source": [
    "Оператор `del` удаляет имя из текущего пространства имён, но не удаляет сам объект."
   ]
  },
  {
   "cell_type": "code",
   "execution_count": 25,
   "metadata": {},
   "outputs": [],
   "source": [
    "class Person:\n",
    "    \"Человек: имя и список друзей.\"\n",
    "\n",
    "    def __init__(self, name):\n",
    "        self.name = name\n",
    "        self.friends = []\n",
    "\n",
    "    def add_friend(self, person):\n",
    "        self.friends.append(person)\n",
    "\n",
    "    def __str__(self):\n",
    "        names = [f.name for f in self.friends]\n",
    "        return f\"Person(name = {self.name}, friends = {names})\""
   ]
  },
  {
   "cell_type": "code",
   "execution_count": 26,
   "metadata": {},
   "outputs": [],
   "source": [
    "john = Person(\"John\")\n",
    "bill = Person(\"Bill\")\n",
    "\n",
    "john.add_friend(bill)"
   ]
  },
  {
   "cell_type": "code",
   "execution_count": 27,
   "metadata": {},
   "outputs": [
    {
     "name": "stdout",
     "output_type": "stream",
     "text": [
      "Person(name = John, friends = ['Bill'])\n",
      "Person(name = Bill, friends = [])\n"
     ]
    }
   ],
   "source": [
    "print(john)\n",
    "print(bill)"
   ]
  },
  {
   "cell_type": "code",
   "execution_count": 28,
   "metadata": {},
   "outputs": [],
   "source": [
    "# Удаляем имя 'bill'.\n",
    "del bill"
   ]
  },
  {
   "cell_type": "code",
   "execution_count": 29,
   "metadata": {},
   "outputs": [
    {
     "name": "stdout",
     "output_type": "stream",
     "text": [
      "Person(name = John, friends = ['Bill'])\n",
      "Person(name = Bill, friends = [])\n"
     ]
    }
   ],
   "source": [
    "# Билл жив, потому что про него помнит Джон.\n",
    "print(john)\n",
    "print(john.friends[0])"
   ]
  },
  {
   "cell_type": "code",
   "execution_count": 30,
   "metadata": {},
   "outputs": [
    {
     "ename": "NameError",
     "evalue": "name 'bill' is not defined",
     "output_type": "error",
     "traceback": [
      "\u001b[1;31m---------------------------------------------------------------------------\u001b[0m",
      "\u001b[1;31mNameError\u001b[0m                                 Traceback (most recent call last)",
      "\u001b[1;32mc:\\Users\\User\\Documents\\GitHub\\lectures-and-seminars\\lecture-2023.11.13-pointers.ipynb Cell 66\u001b[0m line \u001b[0;36m1\n\u001b[1;32m----> <a href='vscode-notebook-cell:/c%3A/Users/User/Documents/GitHub/lectures-and-seminars/lecture-2023.11.13-pointers.ipynb#Y151sZmlsZQ%3D%3D?line=0'>1</a>\u001b[0m \u001b[39mprint\u001b[39m(bill)\n",
      "\u001b[1;31mNameError\u001b[0m: name 'bill' is not defined"
     ]
    }
   ],
   "source": [
    "print(bill)"
   ]
  }
 ],
 "metadata": {
  "kernelspec": {
   "display_name": "Python 3",
   "language": "python",
   "name": "python3"
  },
  "language_info": {
   "codemirror_mode": {
    "name": "ipython",
    "version": 3
   },
   "file_extension": ".py",
   "mimetype": "text/x-python",
   "name": "python",
   "nbconvert_exporter": "python",
   "pygments_lexer": "ipython3",
   "version": "3.12.0"
  }
 },
 "nbformat": 4,
 "nbformat_minor": 2
}
