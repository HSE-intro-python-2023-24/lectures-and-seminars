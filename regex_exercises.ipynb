{
  "cells": [
    {
      "cell_type": "code",
      "execution_count": 3,
      "metadata": {
        "id": "TKN4GJ8Jafa6"
      },
      "outputs": [],
      "source": [
        "import re"
      ]
    },
    {
      "cell_type": "markdown",
      "metadata": {
        "id": "gmR3bZiA_P6J"
      },
      "source": [
        "## Упражнение #1\n",
        "\n",
        "В файле text_1.txt находится информация о статьях в стиле bibtex. Нас интересуют авторы (authors=...). Для каждой статьи из строки про авторов нужно получить список очищенных полных имен (без пробелов, функциональных слов и открывающих и закрывающих фигурных скобок)."
      ]
    },
    {
      "cell_type": "code",
      "execution_count": 1,
      "metadata": {
        "id": "ALGYHDV59QXS"
      },
      "outputs": [],
      "source": [
        "with open(\"./resources/text_1.txt\", \"r\", encoding=\"utf-8\") as file:\n",
        "    text = file.read()"
      ]
    },
    {
      "cell_type": "code",
      "execution_count": null,
      "metadata": {
        "id": "hAiDhEotDHYG"
      },
      "outputs": [],
      "source": [
        "regex = # TODO\n",
        "authors = re.findall(regex, text)\n",
        "clean_authors = []\n",
        "\n",
        "# TODO"
      ]
    },
    {
      "cell_type": "markdown",
      "metadata": {
        "id": "zg-z76XkcFgL"
      },
      "source": [
        "## Упражнение # 2\n",
        "\n",
        "Написать регулярное выражение для вытаскивания фамилий и инициалов авторов статей и книг из файла text_2.txt"
      ]
    },
    {
      "cell_type": "code",
      "execution_count": 5,
      "metadata": {
        "id": "EgjcQTunat1f"
      },
      "outputs": [],
      "source": [
        "with open(\"./resources/text_2.txt\", \"r\", encoding=\"utf-8\") as file:\n",
        "    text = file.read()"
      ]
    },
    {
      "cell_type": "code",
      "execution_count": null,
      "metadata": {
        "id": "2U-hSdpNa2Yh"
      },
      "outputs": [],
      "source": [
        "regex = # TODO\n",
        "re.findall(regex, text)"
      ]
    },
    {
      "cell_type": "markdown",
      "metadata": {
        "id": "G9PqBdSliNQp"
      },
      "source": [
        "## Упражнение # 3\n",
        "\n",
        "Дана некоторая html страница -- text_3.html. Из нее нужно вытащить контент всех хедеров. Хедеры задаются открывающим тегом \\<h1> и закрывающим \\<\\h1>. Бывают хедеры уровней 2, 3, 4 и т.д. Нам нужны они все :)"
      ]
    },
    {
      "cell_type": "code",
      "execution_count": null,
      "metadata": {
        "id": "h3DiqnCCiWJy"
      },
      "outputs": [],
      "source": [
        "with open(\"./resources/text_3.html\", \"r\", encoding=\"utf-8\") as file:\n",
        "    text = file.read()"
      ]
    },
    {
      "cell_type": "code",
      "execution_count": null,
      "metadata": {
        "id": "8ITcXAajibV4"
      },
      "outputs": [],
      "source": [
        "regex = # TODO\n",
        "headers = re.findall(regex, text)"
      ]
    },
    {
      "cell_type": "markdown",
      "metadata": {
        "id": "nBpnBo1W9C2G"
      },
      "source": [
        "Теперь из списка с хедерами нужно вытащить заголовки (title=...)."
      ]
    },
    {
      "cell_type": "code",
      "execution_count": null,
      "metadata": {
        "id": "La2vqCgv84MD"
      },
      "outputs": [],
      "source": [
        "regex = # TODO\n",
        "\n",
        "titles = []\n",
        "\n",
        "# TODO"
      ]
    },
    {
      "cell_type": "markdown",
      "metadata": {
        "id": "-mcbO6AuI3aj"
      },
      "source": [
        "## Упражнение # 4\n",
        "\n",
        "Дана строка, содержащая имена, никнеймы, номера телефонов и имейлы пользователей твиттера. Нужно получить словарь, в качестве ключей содержащий никнеймы, а в качестве значений -- словари с данными соответствующего пользователя:\n",
        "```\n",
        "\"@ivashka666\": {\n",
        "    \"name\": \"Ivan Ivanov\",\n",
        "    \"phone\": \"123-123-123\",\n",
        "    \"email\": \"ivashka@yahoo.com\",\n",
        "}\n",
        "```"
      ]
    },
    {
      "cell_type": "code",
      "execution_count": null,
      "metadata": {
        "id": "k6EH89PhJB-B"
      },
      "outputs": [],
      "source": [
        "string = '''Love, Kenneth, kenneth+challenge@teamtreehouse.com, 555-555-5555, @kennethlove\n",
        "Chalkley, Andrew, andrew@teamtreehouse.co.uk, 555-555-5556, @chalkers\n",
        "McFarland, Dave, dave.mcfarland@teamtreehouse.com, 555-555-5557, @davemcfarland\n",
        "Kesten, Joy, joy@teamtreehouse.com, 555-555-5558, @joykesten'''"
      ]
    },
    {
      "cell_type": "code",
      "execution_count": null,
      "metadata": {
        "colab": {
          "base_uri": "https://localhost:8080/"
        },
        "id": "ARkAotA1JqKm",
        "outputId": "b151240f-866b-46ff-835c-7c374286d792"
      },
      "outputs": [
        {
          "name": "stdout",
          "output_type": "stream",
          "text": [
            "Love, Kenneth, kenneth+challenge@teamtreehouse.com, 555-555-5555, @kennethlove\n",
            "Chalkley, Andrew, andrew@teamtreehouse.co.uk, 555-555-5556, @chalkers\n",
            "McFarland, Dave, dave.mcfarland@teamtreehouse.com, 555-555-5557, @davemcfarland\n",
            "Kesten, Joy, joy@teamtreehouse.com, 555-555-5558, @joykesten\n"
          ]
        }
      ],
      "source": [
        "print(string)"
      ]
    },
    {
      "cell_type": "code",
      "execution_count": null,
      "metadata": {
        "id": "Ou3COzSvFvvH"
      },
      "outputs": [],
      "source": [
        "twitters = {}\n",
        "\n",
        "names = # TODO\n",
        "\n",
        "nicknames = # TODO\n",
        "\n",
        "phones = # TODO\n",
        "\n",
        "emails = # TODO\n",
        "\n",
        "# TODO\n",
        "\n",
        "for item in twitters.items():\n",
        "    print(item)"
      ]
    }
  ],
  "metadata": {
    "colab": {
      "provenance": []
    },
    "kernelspec": {
      "display_name": "Python 3",
      "name": "python3"
    },
    "language_info": {
      "name": "python"
    }
  },
  "nbformat": 4,
  "nbformat_minor": 0
}
